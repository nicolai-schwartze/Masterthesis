{
 "cells": [
  {
   "cell_type": "code",
   "execution_count": 2,
   "metadata": {},
   "outputs": [],
   "source": [
    "import sys\n",
    "sys.path.append(\"../../post_proc\")\n",
    "\n",
    "import post_proc as pp\n",
    "import pickle\n",
    "import matplotlib.pyplot as plt\n",
    "import numpy as np\n",
    "\n",
    "import sys "
   ]
  },
  {
   "cell_type": "code",
   "execution_count": 3,
   "metadata": {},
   "outputs": [],
   "source": [
    "# load data from file\n",
    "path = \"D:/Nicolai/MA_Data/time_experiment_2/\"\n",
    "\n",
    "cipde0a_ex2 = []\n",
    "for i in range(20):\n",
    "    cipde0a_ex2.append(pp.loadExpObject(path + \"cipde0a_rep_\" + str(i) + \".json\"))\n",
    "\n",
    "cipde0b_ex2 = []\n",
    "for i in range(20):\n",
    "    cipde0b_ex2.append(pp.loadExpObject(path + \"cipde0b_rep_\" + str(i) + \".json\"))\n",
    "\n",
    "cipde1_ex2 = []\n",
    "for i in range(20):\n",
    "    cipde1_ex2.append(pp.loadExpObject(path + \"cipde1_rep_\" + str(i) + \".json\"))\n",
    "    \n",
    "cipde2_ex2 = []\n",
    "for i in range(20):\n",
    "    cipde2_ex2.append(pp.loadExpObject(path + \"cipde2_rep_\" + str(i) + \".json\"))\n",
    "    \n",
    "cipde3_ex2 = []\n",
    "for i in range(20):\n",
    "    cipde3_ex2.append(pp.loadExpObject(path + \"cipde3_rep_\" + str(i) + \".json\"))\n",
    "\n",
    "cipde4_ex2 = []\n",
    "for i in range(20):\n",
    "    cipde4_ex2.append(pp.loadExpObject(path + \"cipde4_rep_\" + str(i) + \".json\"))\n",
    "    \n",
    "cipde5_ex2 = []\n",
    "for i in range(20):\n",
    "    cipde5_ex2.append(pp.loadExpObject(path + \"cipde5_rep_\" + str(i) + \".json\"))\n",
    "    \n",
    "cipde6_ex2 = []\n",
    "for i in range(20):\n",
    "    cipde6_ex2.append(pp.loadExpObject(path + \"cipde6_rep_\" + str(i) + \".json\"))\n",
    "    \n",
    "cipde7_ex2 = []\n",
    "for i in range(20):\n",
    "    cipde7_ex2.append(pp.loadExpObject(path + \"cipde7_rep_\" + str(i) + \".json\"))\n",
    "    \n",
    "cipde8_ex2 = []\n",
    "for i in range(20):\n",
    "    cipde8_ex2.append(pp.loadExpObject(path + \"cipde8_rep_\" + str(i) + \".json\"))\n",
    "    \n",
    "cipde9_ex2 = []\n",
    "for i in range(20):\n",
    "    cipde9_ex2.append(pp.loadExpObject(path + \"cipde9_rep_\" + str(i) + \".json\"))"
   ]
  },
  {
   "cell_type": "code",
   "execution_count": 4,
   "metadata": {},
   "outputs": [],
   "source": [
    "time_pde_0A_ex2 = [t[\"exec_time\"] for t in cipde0a_ex2]\n",
    "time_pde_0B_ex2 = [t[\"exec_time\"] for t in cipde0b_ex2]\n",
    "time_pde_1_ex2  = [t[\"exec_time\"] for t in cipde1_ex2]\n",
    "time_pde_2_ex2  = [t[\"exec_time\"] for t in cipde2_ex2]\n",
    "time_pde_3_ex2  = [t[\"exec_time\"] for t in cipde3_ex2]\n",
    "time_pde_4_ex2  = [t[\"exec_time\"] for t in cipde4_ex2]\n",
    "time_pde_5_ex2  = [t[\"exec_time\"] for t in cipde5_ex2]\n",
    "time_pde_6_ex2  = [t[\"exec_time\"] for t in cipde6_ex2]\n",
    "time_pde_7_ex2  = [t[\"exec_time\"] for t in cipde7_ex2]\n",
    "time_pde_8_ex2  = [t[\"exec_time\"] for t in cipde8_ex2]\n",
    "time_pde_9_ex2  = [t[\"exec_time\"] for t in cipde9_ex2]\n",
    "\n",
    "t_data_ex2 = [time_pde_0A_ex2, time_pde_0B_ex2, time_pde_1_ex2, \\\n",
    "          time_pde_2_ex2, time_pde_3_ex2, time_pde_4_ex2, time_pde_5_ex2, \\\n",
    "          time_pde_6_ex2, time_pde_7_ex2, time_pde_8_ex2, time_pde_9_ex2]"
   ]
  },
  {
   "cell_type": "code",
   "execution_count": 5,
   "metadata": {
    "scrolled": false
   },
   "outputs": [
    {
     "data": {
      "image/png": "[encoded data removed]",
      "text/plain": [
       "<Figure size 504x504 with 1 Axes>"
      ]
     },
     "metadata": {
      "needs_background": "light"
     },
     "output_type": "display_data"
    }
   ],
   "source": [
    "fig, ax = plt.subplots(figsize=(7,7))\n",
    "labels = ['pde0A', 'pde0B', 'pde1', 'pde2', 'pde3',\\\n",
    "          'pde4', 'pde5', 'pde6', 'pde7', 'pde8', 'pde9']\n",
    "ax.boxplot(t_data_ex2, labels=labels)\n",
    "ax.set_title('Box Plot CI Solving Time')\n",
    "ax.set_ylabel('time [s]')\n",
    "plt.grid()\n",
    "plt.show()\n",
    "fig.savefig(\"time_boxplot_ci_exp2.pdf\", bbox_inches='tight')"
   ]
  },
  {
   "cell_type": "code",
   "execution_count": 6,
   "metadata": {},
   "outputs": [],
   "source": [
    "mem_pde_0A_ex2 = [t[\"mem_consumption\"]/10**6 for t in cipde0a_ex2]\n",
    "mem_pde_0B_ex2 = [t[\"mem_consumption\"]/10**6 for t in cipde0b_ex2]\n",
    "mem_pde_1_ex2  = [t[\"mem_consumption\"]/10**6 for t in cipde1_ex2]\n",
    "mem_pde_2_ex2  = [t[\"mem_consumption\"]/10**6 for t in cipde2_ex2]\n",
    "mem_pde_3_ex2  = [t[\"mem_consumption\"]/10**6 for t in cipde3_ex2]\n",
    "mem_pde_4_ex2  = [t[\"mem_consumption\"]/10**6 for t in cipde4_ex2]\n",
    "mem_pde_5_ex2  = [t[\"mem_consumption\"]/10**6 for t in cipde5_ex2]\n",
    "mem_pde_6_ex2  = [t[\"mem_consumption\"]/10**6 for t in cipde6_ex2]\n",
    "mem_pde_7_ex2  = [t[\"mem_consumption\"]/10**6 for t in cipde7_ex2]\n",
    "mem_pde_8_ex2  = [t[\"mem_consumption\"]/10**6 for t in cipde8_ex2]\n",
    "mem_pde_9_ex2  = [t[\"mem_consumption\"]/10**6 for t in cipde9_ex2]\n",
    "\n",
    "m_data_ex2 = [mem_pde_0A_ex2, mem_pde_0B_ex2, mem_pde_1_ex2, \\\n",
    "          mem_pde_2_ex2, mem_pde_3_ex2, mem_pde_4_ex2, mem_pde_5_ex2, \\\n",
    "          mem_pde_6_ex2, mem_pde_7_ex2, mem_pde_8_ex2, mem_pde_9_ex2]"
   ]
  },
  {
   "cell_type": "code",
   "execution_count": 7,
   "metadata": {
    "scrolled": false
   },
   "outputs": [
    {
     "data": {
      "image/png": "[encoded data removed]",
      "text/plain": [
       "<Figure size 504x504 with 1 Axes>"
      ]
     },
     "metadata": {
      "needs_background": "light"
     },
     "output_type": "display_data"
    }
   ],
   "source": [
    "fig, ax = plt.subplots(figsize=(7,7))\n",
    "labels = ['pde0A', 'pde0B', 'pde1', 'pde2', 'pde3',\\\n",
    "          'pde4', 'pde5', 'pde6', 'pde7', 'pde8', 'pde9']\n",
    "ax.boxplot(m_data_ex2, labels=labels)\n",
    "ax.set_title('Box Plot CI Memory Usage')\n",
    "ax.set_ylabel('memory [Mbyte]')\n",
    "plt.grid()\n",
    "plt.show()\n",
    "fig.savefig(\"mem_boxplot_ci_exp2.pdf\", bbox_inches='tight')"
   ]
  },
  {
   "cell_type": "code",
   "execution_count": 8,
   "metadata": {},
   "outputs": [],
   "source": [
    "# load data from file\n",
    "path = \"D:/Nicolai/MA_Data/experiment_2/\"\n",
    "\n",
    "cipde0a_ex2_10_6  = []\n",
    "for i in range(20):\n",
    "    cipde0a_ex2_10_6.append(pp.loadExpObjectFast(path + \"cipde0a_mpja_rep_\" + str(i) + \".json\"))\n",
    "\n",
    "cipde0b_ex2_10_6 = []\n",
    "for i in range(20):\n",
    "    cipde0b_ex2_10_6.append(pp.loadExpObjectFast(path + \"cipde0b_mpja_rep_\" + str(i) + \".json\"))\n",
    "\n",
    "cipde1_ex2_10_6 = []\n",
    "for i in range(20):\n",
    "    cipde1_ex2_10_6.append(pp.loadExpObjectFast(path + \"cipde1_mpja_rep_\" + str(i) + \".json\"))\n",
    "    \n",
    "cipde2_ex2_10_6 = []\n",
    "for i in range(20):\n",
    "    cipde2_ex2_10_6.append(pp.loadExpObjectFast(path + \"cipde2_mpja_rep_\" + str(i) + \".json\"))\n",
    "    \n",
    "cipde3_ex2_10_6 = []\n",
    "for i in range(20):\n",
    "    cipde3_ex2_10_6.append(pp.loadExpObjectFast(path + \"cipde3_mpja_rep_\" + str(i) + \".json\"))\n",
    "\n",
    "cipde4_ex2_10_6 = []\n",
    "for i in range(20):\n",
    "    cipde4_ex2_10_6.append(pp.loadExpObjectFast(path + \"cipde4_mpja_rep_\" + str(i) + \".json\"))\n",
    "    \n",
    "cipde5_ex2_10_6 = []\n",
    "for i in range(20):\n",
    "    cipde5_ex2_10_6.append(pp.loadExpObjectFast(path + \"cipde5_mpja_rep_\" + str(i) + \".json\"))\n",
    "    \n",
    "cipde6_ex2_10_6 = []\n",
    "for i in range(20):\n",
    "    cipde6_ex2_10_6.append(pp.loadExpObjectFast(path + \"cipde6_mpja_rep_\" + str(i) + \".json\"))\n",
    "    \n",
    "cipde7_ex2_10_6 = []\n",
    "for i in range(20):\n",
    "    cipde7_ex2_10_6.append(pp.loadExpObjectFast(path + \"cipde7_mpja_rep_\" + str(i) + \".json\"))\n",
    "    \n",
    "cipde8_ex2_10_6 = []\n",
    "for i in range(20):\n",
    "    cipde8_ex2_10_6.append(pp.loadExpObjectFast(path + \"cipde8_mpja_rep_\" + str(i) + \".json\"))\n",
    "    \n",
    "cipde9_ex2_10_6 = []\n",
    "for i in range(20):\n",
    "    cipde9_ex2_10_6.append(pp.loadExpObjectFast(path + \"cipde9_mpja_rep_\" + str(i) + \".json\"))"
   ]
  },
  {
   "cell_type": "code",
   "execution_count": 9,
   "metadata": {},
   "outputs": [],
   "source": [
    "# load data from file\n",
    "path = \"D:/Nicolai/MA_Data/experiment_1/\"\n",
    "\n",
    "cipde0a_ex1_10_6 = []\n",
    "for i in range(20):\n",
    "    cipde0a_ex1_10_6.append(pp.loadExpObjectFast(path + \"cipde0a_mpj_rep_\" + str(i) + \".json\"))\n",
    "\n",
    "cipde0b_ex1_10_6 = []\n",
    "for i in range(20):\n",
    "    cipde0b_ex1_10_6.append(pp.loadExpObjectFast(path + \"cipde0b_mpj_rep_\" + str(i) + \".json\"))\n",
    "\n",
    "cipde1_ex1_10_6 = []\n",
    "for i in range(20):\n",
    "    cipde1_ex1_10_6.append(pp.loadExpObjectFast(path + \"cipde1_mpj_rep_\" + str(i) + \".json\"))\n",
    "    \n",
    "cipde2_ex1_10_6 = []\n",
    "for i in range(20):\n",
    "    cipde2_ex1_10_6.append(pp.loadExpObjectFast(path + \"cipde2_mpj_rep_\" + str(i) + \".json\"))\n",
    "    \n",
    "cipde3_ex1_10_6 = []\n",
    "for i in range(20):\n",
    "    cipde3_ex1_10_6.append(pp.loadExpObjectFast(path + \"cipde3_mpj_rep_\" + str(i) + \".json\"))\n",
    "\n",
    "cipde4_ex1_10_6 = []\n",
    "for i in range(20):\n",
    "    cipde4_ex1_10_6.append(pp.loadExpObjectFast(path + \"cipde4_mpj_rep_\" + str(i) + \".json\"))\n",
    "    \n",
    "cipde5_ex1_10_6 = []\n",
    "for i in range(20):\n",
    "    cipde5_ex1_10_6.append(pp.loadExpObjectFast(path + \"cipde5_mpj_rep_\" + str(i) + \".json\"))\n",
    "    \n",
    "cipde6_ex1_10_6 = []\n",
    "for i in range(20):\n",
    "    cipde6_ex1_10_6.append(pp.loadExpObjectFast(path + \"cipde6_mpj_rep_\" + str(i) + \".json\"))\n",
    "    \n",
    "cipde7_ex1_10_6 = []\n",
    "for i in range(20):\n",
    "    cipde7_ex1_10_6.append(pp.loadExpObjectFast(path + \"cipde7_mpj_rep_\" + str(i) + \".json\"))\n",
    "    \n",
    "cipde8_ex1_10_6 = []\n",
    "for i in range(20):\n",
    "    cipde8_ex1_10_6.append(pp.loadExpObjectFast(path + \"cipde8_mpj_rep_\" + str(i) + \".json\"))\n",
    "    \n",
    "cipde9_ex1_10_6 = []\n",
    "for i in range(20):\n",
    "    cipde9_ex1_10_6.append(pp.loadExpObjectFast(path + \"cipde9_mpj_rep_\" + str(i) + \".json\"))"
   ]
  },
  {
   "cell_type": "code",
   "execution_count": 10,
   "metadata": {},
   "outputs": [],
   "source": [
    "pde_0A_data_ex1_10_6 = [t[\"normL2\"] for t in cipde0a_ex1_10_6]\n",
    "pde_0B_data_ex1_10_6 = [t[\"normL2\"] for t in cipde0b_ex1_10_6]\n",
    "pde_1_data_ex1_10_6 = [t[\"normL2\"] for t in cipde1_ex1_10_6]\n",
    "pde_2_data_ex1_10_6 = [t[\"normL2\"] for t in cipde2_ex1_10_6]\n",
    "pde_3_data_ex1_10_6 = [t[\"normL2\"] for t in cipde3_ex1_10_6]\n",
    "pde_4_data_ex1_10_6 = [t[\"normL2\"] for t in cipde4_ex1_10_6]\n",
    "pde_5_data_ex1_10_6 = [t[\"normL2\"] for t in cipde5_ex1_10_6]\n",
    "pde_6_data_ex1_10_6 = [t[\"normL2\"] for t in cipde6_ex1_10_6]\n",
    "pde_7_data_ex1_10_6 = [t[\"normL2\"] for t in cipde7_ex1_10_6]\n",
    "pde_8_data_ex1_10_6 = [t[\"normL2\"] for t in cipde8_ex1_10_6]\n",
    "pde_9_data_ex1_10_6 = [t[\"normL2\"] for t in cipde9_ex1_10_6]\n",
    "\n",
    "dist_pde_0A_ex1_10_6 = np.mean(pde_0A_data_ex1_10_6)\n",
    "dist_pde_0B_ex1_10_6 = np.mean(pde_0B_data_ex1_10_6)\n",
    "dist_pde_1_ex1_10_6  = np.mean(pde_1_data_ex1_10_6)\n",
    "dist_pde_2_ex1_10_6  = np.mean(pde_2_data_ex1_10_6)\n",
    "dist_pde_3_ex1_10_6  = np.mean(pde_3_data_ex1_10_6)\n",
    "dist_pde_4_ex1_10_6  = np.mean(pde_4_data_ex1_10_6)\n",
    "dist_pde_5_ex1_10_6  = np.mean(pde_5_data_ex1_10_6)\n",
    "dist_pde_6_ex1_10_6  = np.mean(pde_6_data_ex1_10_6)\n",
    "dist_pde_7_ex1_10_6  = np.mean(pde_7_data_ex1_10_6)\n",
    "dist_pde_8_ex1_10_6  = np.mean(pde_8_data_ex1_10_6)\n",
    "dist_pde_9_ex1_10_6  = np.mean(pde_9_data_ex1_10_6)\n",
    "\n",
    "std_pde_0A_ex1_10_6 = np.std(pde_0A_data_ex1_10_6)\n",
    "std_pde_0B_ex1_10_6 = np.std(pde_0B_data_ex1_10_6)\n",
    "std_pde_1_ex1_10_6  = np.std(pde_1_data_ex1_10_6)\n",
    "std_pde_2_ex1_10_6  = np.std(pde_2_data_ex1_10_6)\n",
    "std_pde_3_ex1_10_6  = np.std(pde_3_data_ex1_10_6)\n",
    "std_pde_4_ex1_10_6  = np.std(pde_4_data_ex1_10_6)\n",
    "std_pde_5_ex1_10_6  = np.std(pde_5_data_ex1_10_6)\n",
    "std_pde_6_ex1_10_6  = np.std(pde_6_data_ex1_10_6)\n",
    "std_pde_7_ex1_10_6  = np.std(pde_7_data_ex1_10_6)\n",
    "std_pde_8_ex1_10_6  = np.std(pde_8_data_ex1_10_6)\n",
    "std_pde_9_ex1_10_6  = np.std(pde_9_data_ex1_10_6)\n",
    "\n",
    "med_pde_0A_ex1_10_6 = np.median(pde_0A_data_ex1_10_6)\n",
    "med_pde_0B_ex1_10_6 = np.median(pde_0B_data_ex1_10_6)\n",
    "med_pde_1_ex1_10_6 = np.median(pde_1_data_ex1_10_6)\n",
    "med_pde_2_ex1_10_6 = np.median(pde_2_data_ex1_10_6)\n",
    "med_pde_3_ex1_10_6 = np.median(pde_3_data_ex1_10_6)\n",
    "med_pde_4_ex1_10_6 = np.median(pde_4_data_ex1_10_6)\n",
    "med_pde_5_ex1_10_6 = np.median(pde_5_data_ex1_10_6)\n",
    "med_pde_6_ex1_10_6 = np.median(pde_6_data_ex1_10_6)\n",
    "med_pde_7_ex1_10_6 = np.median(pde_7_data_ex1_10_6)\n",
    "med_pde_8_ex1_10_6 = np.median(pde_8_data_ex1_10_6)\n",
    "med_pde_9_ex1_10_6 = np.median(pde_9_data_ex1_10_6)"
   ]
  },
  {
   "cell_type": "code",
   "execution_count": 11,
   "metadata": {},
   "outputs": [],
   "source": [
    "pde_0A_data_ex2_10_6 = [t[\"normL2\"] for t in cipde0a_ex2_10_6]\n",
    "pde_0B_data_ex2_10_6 = [t[\"normL2\"] for t in cipde0b_ex2_10_6]\n",
    "pde_1_data_ex2_10_6 = [t[\"normL2\"] for t in cipde1_ex2_10_6]\n",
    "pde_2_data_ex2_10_6 = [t[\"normL2\"] for t in cipde2_ex2_10_6]\n",
    "pde_3_data_ex2_10_6 = [t[\"normL2\"] for t in cipde3_ex2_10_6]\n",
    "pde_4_data_ex2_10_6 = [t[\"normL2\"] for t in cipde4_ex2_10_6]\n",
    "pde_5_data_ex2_10_6 = [t[\"normL2\"] for t in cipde5_ex2_10_6]\n",
    "pde_6_data_ex2_10_6 = [t[\"normL2\"] for t in cipde6_ex2_10_6]\n",
    "pde_7_data_ex2_10_6 = [t[\"normL2\"] for t in cipde7_ex2_10_6]\n",
    "pde_8_data_ex2_10_6 = [t[\"normL2\"] for t in cipde8_ex2_10_6]\n",
    "pde_9_data_ex2_10_6 = [t[\"normL2\"] for t in cipde9_ex2_10_6]\n",
    "\n",
    "dist_pde_0A_ex2_10_6 = np.mean(pde_0A_data_ex2_10_6)\n",
    "dist_pde_0B_ex2_10_6 = np.mean(pde_0B_data_ex2_10_6)\n",
    "dist_pde_1_ex2_10_6  = np.mean(pde_1_data_ex2_10_6)\n",
    "dist_pde_2_ex2_10_6  = np.mean(pde_2_data_ex2_10_6)\n",
    "dist_pde_3_ex2_10_6  = np.mean(pde_3_data_ex2_10_6)\n",
    "dist_pde_4_ex2_10_6  = np.mean(pde_4_data_ex2_10_6)\n",
    "dist_pde_5_ex2_10_6  = np.mean(pde_5_data_ex2_10_6)\n",
    "dist_pde_6_ex2_10_6  = np.mean(pde_6_data_ex2_10_6)\n",
    "dist_pde_7_ex2_10_6  = np.mean(pde_7_data_ex2_10_6)\n",
    "dist_pde_8_ex2_10_6  = np.mean(pde_8_data_ex2_10_6)\n",
    "dist_pde_9_ex2_10_6  = np.mean(pde_9_data_ex2_10_6)\n",
    "\n",
    "std_pde_0A_ex2_10_6 = np.std(pde_0A_data_ex2_10_6)\n",
    "std_pde_0B_ex2_10_6 = np.std(pde_0B_data_ex2_10_6)\n",
    "std_pde_1_ex2_10_6  = np.std(pde_1_data_ex2_10_6)\n",
    "std_pde_2_ex2_10_6  = np.std(pde_2_data_ex2_10_6)\n",
    "std_pde_3_ex2_10_6  = np.std(pde_3_data_ex2_10_6)\n",
    "std_pde_4_ex2_10_6  = np.std(pde_4_data_ex2_10_6)\n",
    "std_pde_5_ex2_10_6  = np.std(pde_5_data_ex2_10_6)\n",
    "std_pde_6_ex2_10_6  = np.std(pde_6_data_ex2_10_6)\n",
    "std_pde_7_ex2_10_6  = np.std(pde_7_data_ex2_10_6)\n",
    "std_pde_8_ex2_10_6  = np.std(pde_8_data_ex2_10_6)\n",
    "std_pde_9_ex2_10_6  = np.std(pde_9_data_ex2_10_6)\n",
    "\n",
    "med_pde_0A_ex2_10_6 = np.median(pde_0A_data_ex2_10_6)\n",
    "med_pde_0B_ex2_10_6 = np.median(pde_0B_data_ex2_10_6)\n",
    "med_pde_1_ex2_10_6 = np.median(pde_1_data_ex2_10_6)\n",
    "med_pde_2_ex2_10_6 = np.median(pde_2_data_ex2_10_6)\n",
    "med_pde_3_ex2_10_6 = np.median(pde_3_data_ex2_10_6)\n",
    "med_pde_4_ex2_10_6 = np.median(pde_4_data_ex2_10_6)\n",
    "med_pde_5_ex2_10_6 = np.median(pde_5_data_ex2_10_6)\n",
    "med_pde_6_ex2_10_6 = np.median(pde_6_data_ex2_10_6)\n",
    "med_pde_7_ex2_10_6 = np.median(pde_7_data_ex2_10_6)\n",
    "med_pde_8_ex2_10_6 = np.median(pde_8_data_ex2_10_6)\n",
    "med_pde_9_ex2_10_6 = np.median(pde_9_data_ex2_10_6)"
   ]
  },
  {
   "cell_type": "code",
   "execution_count": 23,
   "metadata": {},
   "outputs": [
    {
     "name": "stdout",
     "output_type": "stream",
     "text": [
      "9.694384139238607e-16\n",
      "0.23803035236294803\n",
      "0.01162268239990536\n",
      "0.07351809964967682\n",
      "0.17313565836319747\n",
      "0.07066214915522029\n",
      "122.63119919310277\n",
      "0.4427626433220723\n",
      "0.0513338395569067\n",
      "0.2143862672915354\n",
      "0.048272045380644626\n"
     ]
    }
   ],
   "source": [
    "print(dist_pde_0A_ex2_10_6) \n",
    "print(dist_pde_0B_ex2_10_6)\n",
    "print(dist_pde_1_ex2_10_6)  \n",
    "print(dist_pde_2_ex2_10_6)  \n",
    "print(dist_pde_3_ex2_10_6)  \n",
    "print(dist_pde_4_ex2_10_6) \n",
    "print(dist_pde_5_ex2_10_6)  \n",
    "print(dist_pde_6_ex2_10_6) \n",
    "print(dist_pde_7_ex2_10_6) \n",
    "print(dist_pde_8_ex2_10_6) \n",
    "print(dist_pde_9_ex2_10_6) "
   ]
  },
  {
   "cell_type": "code",
   "execution_count": 12,
   "metadata": {},
   "outputs": [
    {
     "name": "stdout",
     "output_type": "stream",
     "text": [
      "sig. better\n",
      "unsig. undecided\n",
      "unsig. better\n",
      "sig. worse\n",
      "sig. worse\n",
      "sig. worse\n",
      "unsig. undecided\n",
      "unsig. undecided\n",
      "sig. worse\n",
      "unsig. better\n",
      "unsig. worse\n"
     ]
    }
   ],
   "source": [
    "pde_0A_stat_10_6 = pp.statsWilcoxon(pde_0A_data_ex2_10_6, pde_0A_data_ex1_10_6)\n",
    "pde_0B_stat_10_6 = pp.statsWilcoxon(pde_0B_data_ex2_10_6, pde_0B_data_ex1_10_6)\n",
    "pde_1_stat_10_6  = pp.statsWilcoxon(pde_1_data_ex2_10_6,  pde_1_data_ex1_10_6)\n",
    "pde_2_stat_10_6  = pp.statsWilcoxon(pde_2_data_ex2_10_6,  pde_2_data_ex1_10_6)\n",
    "pde_3_stat_10_6  = pp.statsWilcoxon(pde_3_data_ex2_10_6,  pde_3_data_ex1_10_6)\n",
    "pde_4_stat_10_6  = pp.statsWilcoxon(pde_4_data_ex2_10_6,  pde_4_data_ex1_10_6)\n",
    "pde_5_stat_10_6  = pp.statsWilcoxon(pde_5_data_ex2_10_6,  pde_5_data_ex1_10_6)\n",
    "pde_6_stat_10_6  = pp.statsWilcoxon(pde_6_data_ex2_10_6,  pde_6_data_ex1_10_6)\n",
    "pde_7_stat_10_6  = pp.statsWilcoxon(pde_7_data_ex2_10_6,  pde_7_data_ex1_10_6)\n",
    "pde_8_stat_10_6  = pp.statsWilcoxon(pde_8_data_ex2_10_6,  pde_8_data_ex1_10_6)\n",
    "pde_9_stat_10_6  = pp.statsWilcoxon(pde_9_data_ex2_10_6,  pde_9_data_ex1_10_6)\n",
    "\n",
    "print(pde_0A_stat_10_6)\n",
    "print(pde_0B_stat_10_6)\n",
    "print(pde_1_stat_10_6)\n",
    "print(pde_2_stat_10_6)\n",
    "print(pde_3_stat_10_6)\n",
    "print(pde_4_stat_10_6)\n",
    "print(pde_5_stat_10_6)\n",
    "print(pde_6_stat_10_6)\n",
    "print(pde_7_stat_10_6)\n",
    "print(pde_8_stat_10_6)\n",
    "print(pde_9_stat_10_6)"
   ]
  },
  {
   "cell_type": "code",
   "execution_count": 13,
   "metadata": {},
   "outputs": [
    {
     "name": "stdout",
     "output_type": "stream",
     "text": [
      "\\gls{pde} 0A & 0.6939 \\pm 0.6635 & 0.9243 & 9.6944E-16 \\pm 1.4867E-16 & 9.2559E-16 & sig. better\n",
      "\\gls{pde} 0B & 0.2809 \\pm 0.3071 & 0.2035 & 0.2380 \\pm 0.0572 & 0.2607 & unsig. undecided\n",
      "\\gls{pde} 1 & 0.0239 \\pm 0.0467 & 0.0146 & 0.0116 \\pm 0.0061 & 0.0084 & unsig. better\n",
      "\\gls{pde} 2 & 0.0300 \\pm 0.0157 & 0.0255 & 0.0735 \\pm 0.0358 & 0.1034 & sig. worse\n",
      "\\gls{pde} 3 & 0.0371 \\pm 0.0206 & 0.0295 & 0.1731 \\pm 0.0395 & 0.1822 & sig. worse\n",
      "\\gls{pde} 4 & 0.0505 \\pm 0.0121 & 0.0481 & 0.0707 \\pm 0.0053 & 0.0720 & sig. worse\n",
      "\\gls{pde} 5 & 1.2030 \\pm 0.0465 & 1.2053 & 122.6312 \\pm 372.5676 & 1.1643 & unsig. undecided\n",
      "\\gls{pde} 6 & 0.5814 \\pm 1.3550 & 0.0000 & 0.4428 \\pm 1.0980 & 0.0000 & unsig. undecided\n",
      "\\gls{pde} 7 & 0.0228 \\pm 0.0025 & 0.0226 & 0.0513 \\pm 0.0442 & 0.0231 & sig. worse\n",
      "\\gls{pde} 8 & 0.2167 \\pm 0.0017 & 0.2169 & 0.2144 \\pm 0.0044 & 0.2128 & unsig. better\n",
      "\\gls{pde} 9 & 0.0426 \\pm 0.0115 & 0.0463 & 0.0483 \\pm 0.0149 & 0.0468 & unsig. worse\n"
     ]
    }
   ],
   "source": [
    "print(\"\\\\gls{pde} 0A & \" + \"%.4f\" % dist_pde_0A_ex1_10_6 + \" \\pm \" + \"%.4f\" % std_pde_0A_ex1_10_6 + \" & \" + \"%.4f\" % med_pde_0A_ex1_10_6 + \" & \" + \"%.4E\" % dist_pde_0A_ex2_10_6 + \" \\pm \" + \"%.4E\" % std_pde_0A_ex2_10_6 + \" & \" + \"%.4E\" % med_pde_0A_ex2_10_6 + \" & \" + pde_0A_stat_10_6)\n",
    "print(\"\\\\gls{pde} 0B & \" + \"%.4f\" % dist_pde_0B_ex1_10_6 + \" \\pm \" + \"%.4f\" % std_pde_0B_ex1_10_6 + \" & \" + \"%.4f\" % med_pde_0B_ex1_10_6 + \" & \" + \"%.4f\" % dist_pde_0B_ex2_10_6 + \" \\pm \" + \"%.4f\" % std_pde_0B_ex2_10_6 + \" & \" + \"%.4f\" % med_pde_0B_ex2_10_6 + \" & \" + pde_0B_stat_10_6)\n",
    "print(\"\\\\gls{pde} 1 & \" + \"%.4f\" % dist_pde_1_ex1_10_6 + \" \\pm \" + \"%.4f\" % std_pde_1_ex1_10_6 + \" & \" + \"%.4f\" % med_pde_1_ex1_10_6 + \" & \" + \"%.4f\" % dist_pde_1_ex2_10_6 + \" \\pm \" + \"%.4f\" % std_pde_1_ex2_10_6 + \" & \" + \"%.4f\" % med_pde_1_ex2_10_6 + \" & \" + pde_1_stat_10_6)\n",
    "print(\"\\\\gls{pde} 2 & \" + \"%.4f\" % dist_pde_2_ex1_10_6 + \" \\pm \" + \"%.4f\" % std_pde_2_ex1_10_6 + \" & \" + \"%.4f\" % med_pde_2_ex1_10_6 + \" & \" + \"%.4f\" % dist_pde_2_ex2_10_6 + \" \\pm \" + \"%.4f\" % std_pde_2_ex2_10_6 + \" & \" + \"%.4f\" % med_pde_2_ex2_10_6 + \" & \" + pde_2_stat_10_6)\n",
    "print(\"\\\\gls{pde} 3 & \" + \"%.4f\" % dist_pde_3_ex1_10_6 + \" \\pm \" + \"%.4f\" % std_pde_3_ex1_10_6 + \" & \" + \"%.4f\" % med_pde_3_ex1_10_6 + \" & \" + \"%.4f\" % dist_pde_3_ex2_10_6 + \" \\pm \" + \"%.4f\" % std_pde_3_ex2_10_6 + \" & \" + \"%.4f\" % med_pde_3_ex2_10_6 + \" & \" + pde_3_stat_10_6)\n",
    "print(\"\\\\gls{pde} 4 & \" + \"%.4f\" % dist_pde_4_ex1_10_6 + \" \\pm \" + \"%.4f\" % std_pde_4_ex1_10_6 + \" & \" + \"%.4f\" % med_pde_4_ex1_10_6 + \" & \" + \"%.4f\" % dist_pde_4_ex2_10_6 + \" \\pm \" + \"%.4f\" % std_pde_4_ex2_10_6 + \" & \" + \"%.4f\" % med_pde_4_ex2_10_6 + \" & \" + pde_4_stat_10_6)\n",
    "print(\"\\\\gls{pde} 5 & \" + \"%.4f\" % dist_pde_5_ex1_10_6 + \" \\pm \" + \"%.4f\" % std_pde_5_ex1_10_6 + \" & \" + \"%.4f\" % med_pde_5_ex1_10_6 + \" & \" + \"%.4f\" % dist_pde_5_ex2_10_6 + \" \\pm \" + \"%.4f\" % std_pde_5_ex2_10_6 + \" & \" + \"%.4f\" % med_pde_5_ex2_10_6 + \" & \" + pde_5_stat_10_6)\n",
    "print(\"\\\\gls{pde} 6 & \" + \"%.4f\" % dist_pde_6_ex1_10_6 + \" \\pm \" + \"%.4f\" % std_pde_6_ex1_10_6 + \" & \" + \"%.4f\" % med_pde_6_ex1_10_6 + \" & \" + \"%.4f\" % dist_pde_6_ex2_10_6 + \" \\pm \" + \"%.4f\" % std_pde_6_ex2_10_6 + \" & \" + \"%.4f\" % med_pde_6_ex2_10_6 + \" & \" + pde_6_stat_10_6)\n",
    "print(\"\\\\gls{pde} 7 & \" + \"%.4f\" % dist_pde_7_ex1_10_6 + \" \\pm \" + \"%.4f\" % std_pde_7_ex1_10_6 + \" & \" + \"%.4f\" % med_pde_7_ex1_10_6 + \" & \" + \"%.4f\" % dist_pde_7_ex2_10_6 + \" \\pm \" + \"%.4f\" % std_pde_7_ex2_10_6 + \" & \" + \"%.4f\" % med_pde_7_ex2_10_6 + \" & \" + pde_7_stat_10_6)\n",
    "print(\"\\\\gls{pde} 8 & \" + \"%.4f\" % dist_pde_8_ex1_10_6 + \" \\pm \" + \"%.4f\" % std_pde_8_ex1_10_6 + \" & \" + \"%.4f\" % med_pde_8_ex1_10_6 + \" & \" + \"%.4f\" % dist_pde_8_ex2_10_6 + \" \\pm \" + \"%.4f\" % std_pde_8_ex2_10_6 + \" & \" + \"%.4f\" % med_pde_8_ex2_10_6 + \" & \" + pde_8_stat_10_6)\n",
    "print(\"\\\\gls{pde} 9 & \" + \"%.4f\" % dist_pde_9_ex1_10_6 + \" \\pm \" + \"%.4f\" % std_pde_9_ex1_10_6 + \" & \" + \"%.4f\" % med_pde_9_ex1_10_6 + \" & \" + \"%.4f\" % dist_pde_9_ex2_10_6 + \" \\pm \" + \"%.4f\" % std_pde_9_ex2_10_6 + \" & \" + \"%.4f\" % med_pde_9_ex2_10_6 + \" & \" + pde_9_stat_10_6)"
   ]
  },
  {
   "cell_type": "code",
   "execution_count": 18,
   "metadata": {},
   "outputs": [],
   "source": [
    "import seaborn as sns"
   ]
  },
  {
   "cell_type": "code",
   "execution_count": 31,
   "metadata": {},
   "outputs": [
    {
     "data": {
      "image/png": "[encoded data removed]",
      "text/plain": [
       "<Figure size 432x288 with 1 Axes>"
      ]
     },
     "metadata": {
      "needs_background": "light"
     },
     "output_type": "display_data"
    }
   ],
   "source": [
    "ax = sns.distplot(pde_2_data_ex2_10_6, label=\"adaptive\")\n",
    "ax = sns.distplot(pde_2_data_ex1_10_6, label=\"parallel\")\n",
    "ax.set(xlabel='L2 Norm', ylabel='Frequency')\n",
    "plt.legend()\n",
    "plt.grid()\n",
    "plt.savefig(\"pde2_norm_histogram.pdf\")\n",
    "plt.show()"
   ]
  },
  {
   "cell_type": "code",
   "execution_count": 20,
   "metadata": {},
   "outputs": [
    {
     "data": {
      "image/png": "[encoded data removed]",
      "text/plain": [
       "<Figure size 432x288 with 1 Axes>"
      ]
     },
     "metadata": {
      "needs_background": "light"
     },
     "output_type": "display_data"
    }
   ],
   "source": [
    "ax = sns.distplot(pde_3_data_ex2_10_6, label=\"adaptive\")\n",
    "ax = sns.distplot(pde_3_data_ex1_10_6, label=\"parallel\")\n",
    "ax.set(xlabel='L2 Norm', ylabel='Frequency')\n",
    "plt.legend()\n",
    "plt.grid()\n",
    "plt.savefig(\"pde3_norm_histogram.pdf\")\n",
    "plt.show()"
   ]
  },
  {
   "cell_type": "code",
   "execution_count": 21,
   "metadata": {},
   "outputs": [
    {
     "data": {
      "image/png": "[encoded data removed]",
      "text/plain": [
       "<Figure size 432x288 with 1 Axes>"
      ]
     },
     "metadata": {
      "needs_background": "light"
     },
     "output_type": "display_data"
    }
   ],
   "source": [
    "ax = sns.distplot(pde_4_data_ex2_10_6, label=\"adaptive\")\n",
    "ax = sns.distplot(pde_4_data_ex1_10_6, label=\"parallel\")\n",
    "ax.set(xlabel='L2 Norm', ylabel='Frequency')\n",
    "plt.legend()\n",
    "plt.grid()\n",
    "plt.savefig(\"pde4_norm_histogram.pdf\")\n",
    "plt.show()"
   ]
  },
  {
   "cell_type": "code",
   "execution_count": 22,
   "metadata": {},
   "outputs": [
    {
     "data": {
      "image/png": "[encoded data removed]",
      "text/plain": [
       "<Figure size 432x288 with 1 Axes>"
      ]
     },
     "metadata": {
      "needs_background": "light"
     },
     "output_type": "display_data"
    }
   ],
   "source": [
    "ax = sns.distplot(pde_7_data_ex2_10_6, label=\"adaptive\")\n",
    "ax = sns.distplot(pde_7_data_ex1_10_6, label=\"parallel\")\n",
    "ax.set(xlabel='L2 Norm', ylabel='Frequency')\n",
    "plt.legend()\n",
    "plt.grid()\n",
    "plt.savefig(\"pde7_norm_histogram.pdf\")\n",
    "plt.show()"
   ]
  },
  {
   "cell_type": "code",
   "execution_count": null,
   "metadata": {},
   "outputs": [],
   "source": []
  }
 ],
 "metadata": {
  "kernelspec": {
   "display_name": "Python 3",
   "language": "python",
   "name": "python3"
  },
  "language_info": {
   "codemirror_mode": {
    "name": "ipython",
    "version": 3
   },
   "file_extension": ".py",
   "mimetype": "text/x-python",
   "name": "python",
   "nbconvert_exporter": "python",
   "pygments_lexer": "ipython3",
   "version": "3.7.6"
  }
 },
 "nbformat": 4,
 "nbformat_minor": 4
}
