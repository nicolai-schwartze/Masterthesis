{
 "cells": [
  {
   "cell_type": "code",
   "execution_count": 1,
   "metadata": {},
   "outputs": [],
   "source": [
    "import sys\n",
    "sys.path.append(\"../../post_proc\")\n",
    "\n",
    "import post_proc as pp\n",
    "import pickle\n",
    "import matplotlib.pyplot as plt\n",
    "import numpy as np\n",
    "\n",
    "import sys "
   ]
  },
  {
   "cell_type": "code",
   "execution_count": 3,
   "metadata": {},
   "outputs": [],
   "source": [
    "# load data from file\n",
    "path = \"D:/Nicolai/MA_Data/time_experiment_1/\"\n",
    "\n",
    "cipde0a_ex1_10_4 = []\n",
    "for i in range(20):\n",
    "    cipde0a_ex1_10_4.append(pp.loadExpObject(path + \"cipde0a_rep_\" + str(i) + \".json\"))\n",
    "\n",
    "cipde0b_ex1_10_4 = []\n",
    "for i in range(20):\n",
    "    cipde0b_ex1_10_4.append(pp.loadExpObject(path + \"cipde0b_rep_\" + str(i) + \".json\"))\n",
    "\n",
    "cipde1_ex1_10_4 = []\n",
    "for i in range(20):\n",
    "    cipde1_ex1_10_4.append(pp.loadExpObject(path + \"cipde1_rep_\" + str(i) + \".json\"))\n",
    "    \n",
    "cipde2_ex1_10_4 = []\n",
    "for i in range(20):\n",
    "    cipde2_ex1_10_4.append(pp.loadExpObject(path + \"cipde2_rep_\" + str(i) + \".json\"))\n",
    "    \n",
    "cipde3_ex1_10_4 = []\n",
    "for i in range(20):\n",
    "    cipde3_ex1_10_4.append(pp.loadExpObject(path + \"cipde3_rep_\" + str(i) + \".json\"))\n",
    "\n",
    "cipde4_ex1_10_4 = []\n",
    "for i in range(20):\n",
    "    cipde4_ex1_10_4.append(pp.loadExpObject(path + \"cipde4_rep_\" + str(i) + \".json\"))\n",
    "    \n",
    "cipde5_ex1_10_4 = []\n",
    "for i in range(20):\n",
    "    cipde5_ex1_10_4.append(pp.loadExpObject(path + \"cipde5_rep_\" + str(i) + \".json\"))\n",
    "    \n",
    "cipde6_ex1_10_4 = []\n",
    "for i in range(20):\n",
    "    cipde6_ex1_10_4.append(pp.loadExpObject(path + \"cipde6_rep_\" + str(i) + \".json\"))\n",
    "    \n",
    "cipde7_ex1_10_4 = []\n",
    "for i in range(20):\n",
    "    cipde7_ex1_10_4.append(pp.loadExpObject(path + \"cipde7_rep_\" + str(i) + \".json\"))\n",
    "    \n",
    "cipde8_ex1_10_4 = []\n",
    "for i in range(20):\n",
    "    cipde8_ex1_10_4.append(pp.loadExpObject(path + \"cipde8_rep_\" + str(i) + \".json\"))\n",
    "    \n",
    "cipde9_ex1_10_4 = []\n",
    "for i in range(20):\n",
    "    cipde9_ex1_10_4.append(pp.loadExpObject(path + \"cipde9_rep_\" + str(i) + \".json\"))"
   ]
  },
  {
   "cell_type": "code",
   "execution_count": 3,
   "metadata": {},
   "outputs": [],
   "source": [
    "time_pde_0A_ex1_10_4 = [t[\"exec_time\"] for t in cipde0a_ex1_10_4]\n",
    "time_pde_0B_ex1_10_4 = [t[\"exec_time\"] for t in cipde0b_ex1_10_4]\n",
    "time_pde_1_ex1_10_4  = [t[\"exec_time\"] for t in cipde1_ex1_10_4]\n",
    "time_pde_2_ex1_10_4  = [t[\"exec_time\"] for t in cipde2_ex1_10_4]\n",
    "time_pde_3_ex1_10_4  = [t[\"exec_time\"] for t in cipde3_ex1_10_4]\n",
    "time_pde_4_ex1_10_4  = [t[\"exec_time\"] for t in cipde4_ex1_10_4]\n",
    "time_pde_5_ex1_10_4  = [t[\"exec_time\"] for t in cipde5_ex1_10_4]\n",
    "time_pde_6_ex1_10_4  = [t[\"exec_time\"] for t in cipde6_ex1_10_4]\n",
    "time_pde_7_ex1_10_4  = [t[\"exec_time\"] for t in cipde7_ex1_10_4]\n",
    "time_pde_8_ex1_10_4  = [t[\"exec_time\"] for t in cipde8_ex1_10_4]\n",
    "time_pde_9_ex1_10_4  = [t[\"exec_time\"] for t in cipde9_ex1_10_4]\n",
    "\n",
    "t_data_ex1_10_4 = [time_pde_0A_ex1_10_4, time_pde_0B_ex1_10_4, time_pde_1_ex1_10_4, \\\n",
    "                   time_pde_2_ex1_10_4, time_pde_3_ex1_10_4, time_pde_4_ex1_10_4, time_pde_5_ex1_10_4, \\\n",
    "                   time_pde_6_ex1_10_4, time_pde_7_ex1_10_4, time_pde_8_ex1_10_4, time_pde_9_ex1_10_4]"
   ]
  },
  {
   "cell_type": "code",
   "execution_count": 4,
   "metadata": {
    "scrolled": false
   },
   "outputs": [
    {
     "data": {
      "image/png": "[encoded data removed]",
      "text/plain": [
       "<Figure size 504x504 with 1 Axes>"
      ]
     },
     "metadata": {
      "needs_background": "light"
     },
     "output_type": "display_data"
    }
   ],
   "source": [
    "fig, ax = plt.subplots(figsize=(7,7))\n",
    "labels = ['pde0A', 'pde0B', 'pde1', 'pde2', 'pde3',\\\n",
    "          'pde4', 'pde5', 'pde6', 'pde7', 'pde8', 'pde9']\n",
    "ax.boxplot(t_data_ex1_10_4, labels=labels)\n",
    "ax.set_title('Box Plot CI Solving Time')\n",
    "ax.set_ylabel('time [s]')\n",
    "plt.grid()\n",
    "plt.show()\n",
    "fig.savefig(\"time_boxplot_ci_exp1.pdf\", bbox_inches='tight')"
   ]
  },
  {
   "cell_type": "code",
   "execution_count": 5,
   "metadata": {},
   "outputs": [],
   "source": [
    "mem_pde_0A_ex1_10_4 = [t[\"mem_consumption\"]/10**6 for t in cipde0a_ex1_10_4]\n",
    "mem_pde_0B_ex1_10_4 = [t[\"mem_consumption\"]/10**6 for t in cipde0b_ex1_10_4]\n",
    "mem_pde_1_ex1_10_4  = [t[\"mem_consumption\"]/10**6 for t in cipde1_ex1_10_4]\n",
    "mem_pde_2_ex1_10_4  = [t[\"mem_consumption\"]/10**6 for t in cipde2_ex1_10_4]\n",
    "mem_pde_3_ex1_10_4  = [t[\"mem_consumption\"]/10**6 for t in cipde3_ex1_10_4]\n",
    "mem_pde_4_ex1_10_4  = [t[\"mem_consumption\"]/10**6 for t in cipde4_ex1_10_4]\n",
    "mem_pde_5_ex1_10_4  = [t[\"mem_consumption\"]/10**6 for t in cipde5_ex1_10_4]\n",
    "mem_pde_6_ex1_10_4  = [t[\"mem_consumption\"]/10**6 for t in cipde6_ex1_10_4]\n",
    "mem_pde_7_ex1_10_4  = [t[\"mem_consumption\"]/10**6 for t in cipde7_ex1_10_4]\n",
    "mem_pde_8_ex1_10_4  = [t[\"mem_consumption\"]/10**6 for t in cipde8_ex1_10_4]\n",
    "mem_pde_9_ex1_10_4  = [t[\"mem_consumption\"]/10**6 for t in cipde9_ex1_10_4]\n",
    "\n",
    "m_data_ex1_10_4 = [mem_pde_0A_ex1_10_4, mem_pde_0B_ex1_10_4, mem_pde_1_ex1_10_4, \\\n",
    "                   mem_pde_2_ex1_10_4, mem_pde_3_ex1_10_4, mem_pde_4_ex1_10_4, mem_pde_5_ex1_10_4, \\\n",
    "                   mem_pde_6_ex1_10_4, mem_pde_7_ex1_10_4, mem_pde_8_ex1_10_4, mem_pde_9_ex1_10_4]"
   ]
  },
  {
   "cell_type": "code",
   "execution_count": 6,
   "metadata": {
    "scrolled": false
   },
   "outputs": [
    {
     "data": {
      "image/png": "[encoded data removed]",
      "text/plain": [
       "<Figure size 504x504 with 1 Axes>"
      ]
     },
     "metadata": {
      "needs_background": "light"
     },
     "output_type": "display_data"
    }
   ],
   "source": [
    "fig, ax = plt.subplots(figsize=(7,7))\n",
    "labels = ['pde0A', 'pde0B', 'pde1', 'pde2', 'pde3',\\\n",
    "          'pde4', 'pde5', 'pde6', 'pde7', 'pde8', 'pde9']\n",
    "ax.boxplot(m_data_ex1_10_4, labels=labels)\n",
    "ax.set_title('Box Plot CI Memory Usage')\n",
    "ax.set_ylabel('memory [Mbyte]')\n",
    "plt.grid()\n",
    "plt.show()\n",
    "fig.savefig(\"mem_boxplot_ci_exp1.pdf\", bbox_inches='tight')"
   ]
  },
  {
   "cell_type": "code",
   "execution_count": 7,
   "metadata": {},
   "outputs": [],
   "source": [
    "# minimum distance reached\n",
    "\n",
    "pde_0A_data_ex1_10_4 = [t[\"normL2\"] for t in cipde0a_ex1_10_4]\n",
    "pde_0B_data_ex1_10_4 = [t[\"normL2\"] for t in cipde0b_ex1_10_4]\n",
    "pde_1_data_ex1_10_4 = [t[\"normL2\"] for t in cipde1_ex1_10_4]\n",
    "pde_2_data_ex1_10_4 = [t[\"normL2\"] for t in cipde2_ex1_10_4]\n",
    "pde_3_data_ex1_10_4 = [t[\"normL2\"] for t in cipde3_ex1_10_4]\n",
    "pde_4_data_ex1_10_4 = [t[\"normL2\"] for t in cipde4_ex1_10_4]\n",
    "pde_5_data_ex1_10_4 = [t[\"normL2\"] for t in cipde5_ex1_10_4]\n",
    "pde_6_data_ex1_10_4 = [t[\"normL2\"] for t in cipde6_ex1_10_4]\n",
    "pde_7_data_ex1_10_4 = [t[\"normL2\"] for t in cipde7_ex1_10_4]\n",
    "pde_8_data_ex1_10_4 = [t[\"normL2\"] for t in cipde8_ex1_10_4]\n",
    "pde_9_data_ex1_10_4 = [t[\"normL2\"] for t in cipde9_ex1_10_4]\n",
    "\n",
    "dist_pde_0A_ex1_10_4 = np.mean(pde_0A_data_ex1_10_4)\n",
    "dist_pde_0B_ex1_10_4 = np.mean(pde_0B_data_ex1_10_4)\n",
    "dist_pde_1_ex1_10_4  = np.mean(pde_1_data_ex1_10_4)\n",
    "dist_pde_2_ex1_10_4  = np.mean(pde_2_data_ex1_10_4)\n",
    "dist_pde_3_ex1_10_4  = np.mean(pde_3_data_ex1_10_4)\n",
    "dist_pde_4_ex1_10_4  = np.mean(pde_4_data_ex1_10_4)\n",
    "dist_pde_5_ex1_10_4  = np.mean(pde_5_data_ex1_10_4)\n",
    "dist_pde_6_ex1_10_4  = np.mean(pde_6_data_ex1_10_4)\n",
    "dist_pde_7_ex1_10_4  = np.mean(pde_7_data_ex1_10_4)\n",
    "dist_pde_8_ex1_10_4  = np.mean(pde_8_data_ex1_10_4)\n",
    "dist_pde_9_ex1_10_4  = np.mean(pde_9_data_ex1_10_4)\n",
    "\n",
    "std_pde_0A_ex1_10_4 = np.std(pde_0A_data_ex1_10_4)\n",
    "std_pde_0B_ex1_10_4 = np.std(pde_0B_data_ex1_10_4)\n",
    "std_pde_1_ex1_10_4  = np.std(pde_1_data_ex1_10_4)\n",
    "std_pde_2_ex1_10_4  = np.std(pde_2_data_ex1_10_4)\n",
    "std_pde_3_ex1_10_4  = np.std(pde_3_data_ex1_10_4)\n",
    "std_pde_4_ex1_10_4  = np.std(pde_4_data_ex1_10_4)\n",
    "std_pde_5_ex1_10_4  = np.std(pde_5_data_ex1_10_4)\n",
    "std_pde_6_ex1_10_4  = np.std(pde_6_data_ex1_10_4)\n",
    "std_pde_7_ex1_10_4  = np.std(pde_7_data_ex1_10_4)\n",
    "std_pde_8_ex1_10_4  = np.std(pde_8_data_ex1_10_4)\n",
    "std_pde_9_ex1_10_4  = np.std(pde_9_data_ex1_10_4)\n",
    "\n",
    "med_pde_0A_ex1_10_4 = np.median(pde_0A_data_ex1_10_4)\n",
    "med_pde_0B_ex1_10_4 = np.median(pde_0B_data_ex1_10_4)\n",
    "med_pde_1_ex1_10_4 = np.median(pde_1_data_ex1_10_4)\n",
    "med_pde_2_ex1_10_4 = np.median(pde_2_data_ex1_10_4)\n",
    "med_pde_3_ex1_10_4 = np.median(pde_3_data_ex1_10_4)\n",
    "med_pde_4_ex1_10_4 = np.median(pde_4_data_ex1_10_4)\n",
    "med_pde_5_ex1_10_4 = np.median(pde_5_data_ex1_10_4)\n",
    "med_pde_6_ex1_10_4 = np.median(pde_6_data_ex1_10_4)\n",
    "med_pde_7_ex1_10_4 = np.median(pde_7_data_ex1_10_4)\n",
    "med_pde_8_ex1_10_4 = np.median(pde_8_data_ex1_10_4)\n",
    "med_pde_9_ex1_10_4 = np.median(pde_9_data_ex1_10_4)"
   ]
  },
  {
   "cell_type": "code",
   "execution_count": 10,
   "metadata": {},
   "outputs": [],
   "source": [
    "# load experiment 0 to calculate speedup\n",
    "# load data from file\n",
    "path = \"D:/Nicolai/MA_Data/time_experiment_0/\"\n",
    "\n",
    "cipde0a_ex0_10_4 = []\n",
    "for i in range(20):\n",
    "    cipde0a_ex0_10_4.append(pp.loadExpObject(path + \"cipde0a_rep_\" + str(i) + \".json\"))\n",
    "\n",
    "cipde0b_ex0_10_4 = []\n",
    "for i in range(20):\n",
    "    cipde0b_ex0_10_4.append(pp.loadExpObject(path + \"cipde0b_rep_\" + str(i) + \".json\"))\n",
    "\n",
    "cipde1_ex0_10_4 = []\n",
    "for i in range(20):\n",
    "    cipde1_ex0_10_4.append(pp.loadExpObject(path + \"cipde1_rep_\" + str(i) + \".json\"))\n",
    "    \n",
    "cipde2_ex0_10_4 = []\n",
    "for i in range(20):\n",
    "    cipde2_ex0_10_4.append(pp.loadExpObject(path + \"cipde2_rep_\" + str(i) + \".json\"))\n",
    "    \n",
    "cipde3_ex0_10_4 = []\n",
    "for i in range(20):\n",
    "    cipde3_ex0_10_4.append(pp.loadExpObject(path + \"cipde3_rep_\" + str(i) + \".json\"))\n",
    "\n",
    "cipde4_ex0_10_4 = []\n",
    "for i in range(20):\n",
    "    cipde4_ex0_10_4.append(pp.loadExpObject(path + \"cipde4_rep_\" + str(i) + \".json\"))\n",
    "    \n",
    "cipde5_ex0_10_4 = []\n",
    "for i in range(20):\n",
    "    cipde5_ex0_10_4.append(pp.loadExpObject(path + \"cipde5_rep_\" + str(i) + \".json\"))\n",
    "    \n",
    "cipde6_ex0_10_4 = []\n",
    "for i in range(20):\n",
    "    cipde6_ex0_10_4.append(pp.loadExpObject(path + \"cipde6_rep_\" + str(i) + \".json\"))\n",
    "    \n",
    "cipde7_ex0_10_4 = []\n",
    "for i in range(20):\n",
    "    cipde7_ex0_10_4.append(pp.loadExpObject(path + \"cipde7_rep_\" + str(i) + \".json\"))\n",
    "    \n",
    "cipde8_ex0_10_4 = []\n",
    "for i in range(20):\n",
    "    cipde8_ex0_10_4.append(pp.loadExpObject(path + \"cipde8_rep_\" + str(i) + \".json\"))\n",
    "    \n",
    "cipde9_ex0_10_4 = []\n",
    "for i in range(20):\n",
    "    cipde9_ex0_10_4.append(pp.loadExpObject(path + \"cipde9_rep_\" + str(i) + \".json\"))"
   ]
  },
  {
   "cell_type": "code",
   "execution_count": 11,
   "metadata": {},
   "outputs": [],
   "source": [
    "time_pde_0A_ex0_10_4 = [t[\"exec_time\"] for t in cipde0a_ex0_10_4]\n",
    "time_pde_0B_ex0_10_4 = [t[\"exec_time\"] for t in cipde0b_ex0_10_4]\n",
    "time_pde_1_ex0_10_4  = [t[\"exec_time\"] for t in cipde1_ex0_10_4]\n",
    "time_pde_2_ex0_10_4  = [t[\"exec_time\"] for t in cipde2_ex0_10_4]\n",
    "time_pde_3_ex0_10_4  = [t[\"exec_time\"] for t in cipde3_ex0_10_4]\n",
    "time_pde_4_ex0_10_4  = [t[\"exec_time\"] for t in cipde4_ex0_10_4]\n",
    "time_pde_5_ex0_10_4  = [t[\"exec_time\"] for t in cipde5_ex0_10_4]\n",
    "time_pde_6_ex0_10_4  = [t[\"exec_time\"] for t in cipde6_ex0_10_4]\n",
    "time_pde_7_ex0_10_4  = [t[\"exec_time\"] for t in cipde7_ex0_10_4]\n",
    "time_pde_8_ex0_10_4  = [t[\"exec_time\"] for t in cipde8_ex0_10_4]\n",
    "time_pde_9_ex0_10_4  = [t[\"exec_time\"] for t in cipde9_ex0_10_4]\n",
    "\n",
    "t_data_ex0_mean_10_4 = [np.mean(time_pde_0A_ex0_10_4), np.mean(time_pde_0B_ex0_10_4), np.mean(time_pde_1_ex0_10_4), \\\n",
    "             np.mean(time_pde_2_ex0_10_4), np.mean(time_pde_3_ex0_10_4), np.mean(time_pde_4_ex0_10_4), np.mean(time_pde_5_ex0_10_4), \\\n",
    "             np.mean(time_pde_6_ex0_10_4), np.mean(time_pde_7_ex0_10_4), np.mean(time_pde_8_ex0_10_4), np.mean(time_pde_9_ex0_10_4)]\n",
    "\n",
    "\n",
    "t_data_ex1_mean_10_4 = [np.mean(time_pde_0A_ex1_10_4), np.mean(time_pde_0B_ex1_10_4), np.mean(time_pde_1_ex1_10_4), \\\n",
    "                        np.mean(time_pde_2_ex1_10_4), np.mean(time_pde_3_ex1_10_4), np.mean(time_pde_4_ex1_10_4), np.mean(time_pde_5_ex1_10_4), \\\n",
    "                        np.mean(time_pde_6_ex1_10_4), np.mean(time_pde_7_ex1_10_4), np.mean(time_pde_8_ex1_10_4), np.mean(time_pde_9_ex1_10_4)]"
   ]
  },
  {
   "cell_type": "code",
   "execution_count": 12,
   "metadata": {},
   "outputs": [
    {
     "name": "stdout",
     "output_type": "stream",
     "text": [
      "(11,)\n",
      "(11,)\n"
     ]
    }
   ],
   "source": [
    "speedup_data_mean_10_4 = []\n",
    "for i in range(11):\n",
    "    speedup_data_mean_10_4.append(t_data_ex0_mean_10_4[i]/t_data_ex1_mean_10_4[i])    \n",
    "    \n",
    "speedup_data_std_10_4 = []\n",
    "speedup_data_std_10_4.append(np.sqrt(np.mean([x**2 for x in time_pde_0A_ex0_10_4]) * np.mean([(1/y)**2 for y in time_pde_0A_ex1_10_4])-\\\n",
    "(np.mean(time_pde_0A_ex0_10_4)*np.mean([1/y for y in time_pde_0A_ex1_10_4]))**2))\n",
    "speedup_data_std_10_4.append(np.sqrt(np.mean([x**2 for x in time_pde_0B_ex0_10_4]) * np.mean([(1/y)**2 for y in time_pde_0B_ex1_10_4])-\\\n",
    "(np.mean(time_pde_0B_ex0_10_4)*np.mean([1/y for y in time_pde_0B_ex1_10_4]))**2))\n",
    "speedup_data_std_10_4.append(np.sqrt(np.mean([x**2 for x in time_pde_1_ex0_10_4]) * np.mean([(1/y)**2 for y in time_pde_1_ex1_10_4])-\\\n",
    "(np.mean(time_pde_1_ex0_10_4)*np.mean([1/y for y in time_pde_1_ex1_10_4]))**2))\n",
    "speedup_data_std_10_4.append(np.sqrt(np.mean([x**2 for x in time_pde_2_ex0_10_4]) * np.mean([(1/y)**2 for y in time_pde_2_ex1_10_4])-\\\n",
    "(np.mean(time_pde_2_ex0_10_4)*np.mean([1/y for y in time_pde_2_ex1_10_4]))**2))\n",
    "speedup_data_std_10_4.append(np.sqrt(np.mean([x**2 for x in time_pde_3_ex0_10_4]) * np.mean([(1/y)**2 for y in time_pde_3_ex1_10_4])-\\\n",
    "(np.mean(time_pde_3_ex0_10_4)*np.mean([1/y for y in time_pde_3_ex1_10_4]))**2))\n",
    "speedup_data_std_10_4.append(np.sqrt(np.mean([x**2 for x in time_pde_4_ex0_10_4]) * np.mean([(1/y)**2 for y in time_pde_4_ex1_10_4])-\\\n",
    "(np.mean(time_pde_4_ex0_10_4)*np.mean([1/y for y in time_pde_4_ex1_10_4]))**2))\n",
    "speedup_data_std_10_4.append(np.sqrt(np.mean([x**2 for x in time_pde_5_ex0_10_4]) * np.mean([(1/y)**2 for y in time_pde_5_ex1_10_4])-\\\n",
    "(np.mean(time_pde_5_ex0_10_4)*np.mean([1/y for y in time_pde_5_ex1_10_4]))**2))\n",
    "speedup_data_std_10_4.append(np.sqrt(np.mean([x**2 for x in time_pde_6_ex0_10_4]) * np.mean([(1/y)**2 for y in time_pde_6_ex1_10_4])-\\\n",
    "(np.mean(time_pde_6_ex0_10_4)*np.mean([1/y for y in time_pde_6_ex1_10_4]))**2))\n",
    "speedup_data_std_10_4.append(np.sqrt(np.mean([x**2 for x in time_pde_7_ex0_10_4]) * np.mean([(1/y)**2 for y in time_pde_7_ex1_10_4])-\\\n",
    "(np.mean(time_pde_7_ex0_10_4)*np.mean([1/y for y in time_pde_7_ex1_10_4]))**2))\n",
    "speedup_data_std_10_4.append(np.sqrt(np.mean([x**2 for x in time_pde_8_ex0_10_4]) * np.mean([(1/y)**2 for y in time_pde_8_ex1_10_4])-\\\n",
    "(np.mean(time_pde_8_ex0_10_4)*np.mean([1/y for y in time_pde_8_ex1_10_4]))**2))\n",
    "speedup_data_std_10_4.append(np.sqrt(np.mean([x**2 for x in time_pde_9_ex0_10_4]) * np.mean([(1/y)**2 for y in time_pde_9_ex1_10_4])-\\\n",
    "(np.mean(time_pde_9_ex0_10_4)*np.mean([1/y for y in time_pde_9_ex1_10_4]))**2))\n",
    "\n",
    "speedup_data_mean_10_4 = np.array(speedup_data_mean_10_4)\n",
    "speedup_data_std_10_4 = np.array(speedup_data_std_10_4)\n",
    "print(speedup_data_mean_10_4.shape)\n",
    "print(speedup_data_std_10_4.shape)"
   ]
  },
  {
   "cell_type": "code",
   "execution_count": 13,
   "metadata": {},
   "outputs": [
    {
     "data": {
      "image/png": "[encoded data removed]",
      "text/plain": [
       "<Figure size 432x288 with 1 Axes>"
      ]
     },
     "metadata": {
      "needs_background": "light"
     },
     "output_type": "display_data"
    }
   ],
   "source": [
    "my_xticks = ['PDE0A','PDE0B','PDE1','PDE2','PDE3','PDE4','PDE5','PDE6','PDE7','PDE8','PDE9']\n",
    "x = np.array([0,1,2,3,4,5,6,7,8,9,10])\n",
    "plt.xticks(x, my_xticks, rotation=(45))\n",
    "plt.ylabel(\"speedup\")\n",
    "plt.plot(speedup_data_mean_10_4, marker=\"o\")\n",
    "plt.fill_between(x, speedup_data_mean_10_4-speedup_data_std_10_4, speedup_data_mean_10_4+speedup_data_std_10_4,\n",
    "    alpha=0.7, edgecolor='C1', facecolor='C1')\n",
    "plt.grid()\n",
    "plt.savefig(\"speedup_plot.pdf\")\n",
    "plt.show()"
   ]
  },
  {
   "cell_type": "markdown",
   "metadata": {},
   "source": [
    "## Calculate Wilcoxon Significance Test on Norm L2 for EX0 and EX1 at 10^6 FE\n",
    "#### Expection: No significance difference between them"
   ]
  },
  {
   "cell_type": "code",
   "execution_count": 23,
   "metadata": {},
   "outputs": [],
   "source": [
    "# load experiment 0 data from file\n",
    "path = \"D:/Nicolai/MA_Data/experiment_0/\"\n",
    "\n",
    "cipde0a_ex0_10_6 = []\n",
    "for i in range(20):\n",
    "    cipde0a_ex0_10_6.append(pp.loadExpObjectFast(path + \"cipde0a_mj_rep_\" + str(i) + \".json\"))\n",
    "\n",
    "cipde0b_ex0_10_6 = []\n",
    "for i in range(20):\n",
    "    cipde0b_ex0_10_6.append(pp.loadExpObjectFast(path + \"cipde0b_mj_rep_\" + str(i) + \".json\"))\n",
    "\n",
    "cipde1_ex0_10_6 = []\n",
    "for i in range(20):\n",
    "    cipde1_ex0_10_6.append(pp.loadExpObjectFast(path + \"cipde1_mj_rep_\" + str(i) + \".json\"))\n",
    "    \n",
    "cipde2_ex0_10_6 = []\n",
    "for i in range(20):\n",
    "    cipde2_ex0_10_6.append(pp.loadExpObjectFast(path + \"cipde2_mj_rep_\" + str(i) + \".json\"))\n",
    "    \n",
    "cipde3_ex0_10_6 = []\n",
    "for i in range(20):\n",
    "    cipde3_ex0_10_6.append(pp.loadExpObjectFast(path + \"cipde3_mj_rep_\" + str(i) + \".json\"))\n",
    "    \n",
    "cipde4_ex0_10_6 = []\n",
    "for i in range(20):\n",
    "    cipde4_ex0_10_6.append(pp.loadExpObjectFast(path + \"cipde4_mj_rep_\" + str(i) + \".json\"))\n",
    "    \n",
    "cipde5_ex0_10_6 = []\n",
    "for i in range(20):\n",
    "    cipde5_ex0_10_6.append(pp.loadExpObjectFast(path + \"cipde5_mj_rep_\" + str(i) + \".json\"))\n",
    "    \n",
    "cipde6_ex0_10_6 = []\n",
    "for i in range(20):\n",
    "    cipde6_ex0_10_6.append(pp.loadExpObjectFast(path + \"cipde6_mj_rep_\" + str(i) + \".json\"))\n",
    "    \n",
    "cipde7_ex0_10_6 = []\n",
    "for i in range(20):\n",
    "    cipde7_ex0_10_6.append(pp.loadExpObjectFast(path + \"cipde7_mj_rep_\" + str(i) + \".json\"))\n",
    "    \n",
    "cipde8_ex0_10_6 = []\n",
    "for i in range(20):\n",
    "    cipde8_ex0_10_6.append(pp.loadExpObjectFast(path + \"cipde8_mj_rep_\" + str(i) + \".json\"))\n",
    "    \n",
    "cipde9_ex0_10_6 = []\n",
    "for i in range(20):\n",
    "    cipde9_ex0_10_6.append(pp.loadExpObjectFast(path + \"cipde9_mj_rep_\" + str(i) + \".json\"))\n",
    " "
   ]
  },
  {
   "cell_type": "code",
   "execution_count": 24,
   "metadata": {},
   "outputs": [],
   "source": [
    "pde_0A_data_ex0_10_6 = [t[\"normL2\"] for t in cipde0a_ex0_10_6]\n",
    "pde_0B_data_ex0_10_6 = [t[\"normL2\"] for t in cipde0b_ex0_10_6]\n",
    "pde_1_data_ex0_10_6 = [t[\"normL2\"] for t in cipde1_ex0_10_6]\n",
    "pde_2_data_ex0_10_6 = [t[\"normL2\"] for t in cipde2_ex0_10_6]\n",
    "pde_3_data_ex0_10_6 = [t[\"normL2\"] for t in cipde3_ex0_10_6]\n",
    "pde_4_data_ex0_10_6 = [t[\"normL2\"] for t in cipde4_ex0_10_6]\n",
    "pde_5_data_ex0_10_6 = [t[\"normL2\"] for t in cipde5_ex0_10_6]\n",
    "pde_6_data_ex0_10_6 = [t[\"normL2\"] for t in cipde6_ex0_10_6]\n",
    "pde_7_data_ex0_10_6 = [t[\"normL2\"] for t in cipde7_ex0_10_6]\n",
    "pde_8_data_ex0_10_6 = [t[\"normL2\"] for t in cipde8_ex0_10_6]\n",
    "pde_9_data_ex0_10_6 = [t[\"normL2\"] for t in cipde9_ex0_10_6]\n",
    "\n",
    "dist_pde_0A_ex0_10_6 = np.mean(pde_0A_data_ex0_10_6)\n",
    "dist_pde_0B_ex0_10_6 = np.mean(pde_0B_data_ex0_10_6)\n",
    "dist_pde_1_ex0_10_6  = np.mean(pde_1_data_ex0_10_6)\n",
    "dist_pde_2_ex0_10_6  = np.mean(pde_2_data_ex0_10_6)\n",
    "dist_pde_3_ex0_10_6  = np.mean(pde_3_data_ex0_10_6)\n",
    "dist_pde_4_ex0_10_6  = np.mean(pde_4_data_ex0_10_6)\n",
    "dist_pde_5_ex0_10_6  = np.mean(pde_5_data_ex0_10_6)\n",
    "dist_pde_6_ex0_10_6  = np.mean(pde_6_data_ex0_10_6)\n",
    "dist_pde_7_ex0_10_6  = np.mean(pde_7_data_ex0_10_6)\n",
    "dist_pde_8_ex0_10_6  = np.mean(pde_8_data_ex0_10_6)\n",
    "dist_pde_9_ex0_10_6  = np.mean(pde_9_data_ex0_10_6)\n",
    "\n",
    "std_pde_0A_ex0_10_6 = np.std(pde_0A_data_ex0_10_6)\n",
    "std_pde_0B_ex0_10_6 = np.std(pde_0B_data_ex0_10_6)\n",
    "std_pde_1_ex0_10_6  = np.std(pde_1_data_ex0_10_6)\n",
    "std_pde_2_ex0_10_6  = np.std(pde_2_data_ex0_10_6)\n",
    "std_pde_3_ex0_10_6  = np.std(pde_3_data_ex0_10_6)\n",
    "std_pde_4_ex0_10_6  = np.std(pde_4_data_ex0_10_6)\n",
    "std_pde_5_ex0_10_6  = np.std(pde_5_data_ex0_10_6)\n",
    "std_pde_6_ex0_10_6  = np.std(pde_6_data_ex0_10_6)\n",
    "std_pde_7_ex0_10_6  = np.std(pde_7_data_ex0_10_6)\n",
    "std_pde_8_ex0_10_6  = np.std(pde_8_data_ex0_10_6)\n",
    "std_pde_9_ex0_10_6  = np.std(pde_9_data_ex0_10_6)\n",
    "\n",
    "med_pde_0A_ex0_10_6 = np.median(pde_0A_data_ex0_10_6)\n",
    "med_pde_0B_ex0_10_6 = np.median(pde_0B_data_ex0_10_6)\n",
    "med_pde_1_ex0_10_6 = np.median(pde_1_data_ex0_10_6)\n",
    "med_pde_2_ex0_10_6 = np.median(pde_2_data_ex0_10_6)\n",
    "med_pde_3_ex0_10_6 = np.median(pde_3_data_ex0_10_6)\n",
    "med_pde_4_ex0_10_6 = np.median(pde_4_data_ex0_10_6)\n",
    "med_pde_5_ex0_10_6 = np.median(pde_5_data_ex0_10_6)\n",
    "med_pde_6_ex0_10_6 = np.median(pde_6_data_ex0_10_6)\n",
    "med_pde_7_ex0_10_6 = np.median(pde_7_data_ex0_10_6)\n",
    "med_pde_8_ex0_10_6 = np.median(pde_8_data_ex0_10_6)\n",
    "med_pde_9_ex0_10_6 = np.median(pde_9_data_ex0_10_6)"
   ]
  },
  {
   "cell_type": "code",
   "execution_count": 25,
   "metadata": {},
   "outputs": [],
   "source": [
    "# load experiment 1 data from file\n",
    "path = \"D:/Nicolai/MA_Data/experiment_1/\"\n",
    "\n",
    "cipde0a_ex1_10_6 = []\n",
    "for i in range(20):\n",
    "    cipde0a_ex1_10_6.append(pp.loadExpObjectFast(path + \"cipde0a_mpj_rep_\" + str(i) + \".json\"))\n",
    "\n",
    "cipde0b_ex1_10_6 = []\n",
    "for i in range(20):\n",
    "    cipde0b_ex1_10_6.append(pp.loadExpObjectFast(path + \"cipde0b_mpj_rep_\" + str(i) + \".json\"))\n",
    "\n",
    "cipde1_ex1_10_6 = []\n",
    "for i in range(20):\n",
    "    cipde1_ex1_10_6.append(pp.loadExpObjectFast(path + \"cipde1_mpj_rep_\" + str(i) + \".json\"))\n",
    "    \n",
    "cipde2_ex1_10_6 = []\n",
    "for i in range(20):\n",
    "    cipde2_ex1_10_6.append(pp.loadExpObjectFast(path + \"cipde2_mpj_rep_\" + str(i) + \".json\"))\n",
    "    \n",
    "cipde3_ex1_10_6 = []\n",
    "for i in range(20):\n",
    "    cipde3_ex1_10_6.append(pp.loadExpObjectFast(path + \"cipde3_mpj_rep_\" + str(i) + \".json\"))\n",
    "    \n",
    "cipde4_ex1_10_6 = []\n",
    "for i in range(20):\n",
    "    cipde4_ex1_10_6.append(pp.loadExpObjectFast(path + \"cipde4_mpj_rep_\" + str(i) + \".json\"))\n",
    "    \n",
    "cipde5_ex1_10_6 = []\n",
    "for i in range(20):\n",
    "    cipde5_ex1_10_6.append(pp.loadExpObjectFast(path + \"cipde5_mpj_rep_\" + str(i) + \".json\"))\n",
    "    \n",
    "cipde6_ex1_10_6 = []\n",
    "for i in range(20):\n",
    "    cipde6_ex1_10_6.append(pp.loadExpObjectFast(path + \"cipde6_mpj_rep_\" + str(i) + \".json\"))\n",
    "    \n",
    "cipde7_ex1_10_6 = []\n",
    "for i in range(20):\n",
    "    cipde7_ex1_10_6.append(pp.loadExpObjectFast(path + \"cipde7_mpj_rep_\" + str(i) + \".json\"))\n",
    "    \n",
    "cipde8_ex1_10_6 = []\n",
    "for i in range(20):\n",
    "    cipde8_ex1_10_6.append(pp.loadExpObjectFast(path + \"cipde8_mpj_rep_\" + str(i) + \".json\"))\n",
    "    \n",
    "cipde9_ex1_10_6 = []\n",
    "for i in range(20):\n",
    "    cipde9_ex1_10_6.append(pp.loadExpObjectFast(path + \"cipde9_mpj_rep_\" + str(i) + \".json\"))\n",
    " "
   ]
  },
  {
   "cell_type": "code",
   "execution_count": 26,
   "metadata": {},
   "outputs": [],
   "source": [
    "pde_0A_data_ex1_10_6 = [t[\"normL2\"] for t in cipde0a_ex1_10_6]\n",
    "pde_0B_data_ex1_10_6 = [t[\"normL2\"] for t in cipde0b_ex1_10_6]\n",
    "pde_1_data_ex1_10_6 = [t[\"normL2\"] for t in cipde1_ex1_10_6]\n",
    "pde_2_data_ex1_10_6 = [t[\"normL2\"] for t in cipde2_ex1_10_6]\n",
    "pde_3_data_ex1_10_6 = [t[\"normL2\"] for t in cipde3_ex1_10_6]\n",
    "pde_4_data_ex1_10_6 = [t[\"normL2\"] for t in cipde4_ex1_10_6]\n",
    "pde_5_data_ex1_10_6 = [t[\"normL2\"] for t in cipde5_ex1_10_6]\n",
    "pde_6_data_ex1_10_6 = [t[\"normL2\"] for t in cipde6_ex1_10_6]\n",
    "pde_7_data_ex1_10_6 = [t[\"normL2\"] for t in cipde7_ex1_10_6]\n",
    "pde_8_data_ex1_10_6 = [t[\"normL2\"] for t in cipde8_ex1_10_6]\n",
    "pde_9_data_ex1_10_6 = [t[\"normL2\"] for t in cipde9_ex1_10_6]\n",
    "\n",
    "dist_pde_0A_ex1_10_6 = np.mean(pde_0A_data_ex1_10_6)\n",
    "dist_pde_0B_ex1_10_6 = np.mean(pde_0B_data_ex1_10_6)\n",
    "dist_pde_1_ex1_10_6  = np.mean(pde_1_data_ex1_10_6)\n",
    "dist_pde_2_ex1_10_6  = np.mean(pde_2_data_ex1_10_6)\n",
    "dist_pde_3_ex1_10_6  = np.mean(pde_3_data_ex1_10_6)\n",
    "dist_pde_4_ex1_10_6  = np.mean(pde_4_data_ex1_10_6)\n",
    "dist_pde_5_ex1_10_6  = np.mean(pde_5_data_ex1_10_6)\n",
    "dist_pde_6_ex1_10_6  = np.mean(pde_6_data_ex1_10_6)\n",
    "dist_pde_7_ex1_10_6  = np.mean(pde_7_data_ex1_10_6)\n",
    "dist_pde_8_ex1_10_6  = np.mean(pde_8_data_ex1_10_6)\n",
    "dist_pde_9_ex1_10_6  = np.mean(pde_9_data_ex1_10_6)\n",
    "\n",
    "std_pde_0A_ex1_10_6 = np.std(pde_0A_data_ex1_10_6)\n",
    "std_pde_0B_ex1_10_6 = np.std(pde_0B_data_ex1_10_6)\n",
    "std_pde_1_ex1_10_6  = np.std(pde_1_data_ex1_10_6)\n",
    "std_pde_2_ex1_10_6  = np.std(pde_2_data_ex1_10_6)\n",
    "std_pde_3_ex1_10_6  = np.std(pde_3_data_ex1_10_6)\n",
    "std_pde_4_ex1_10_6  = np.std(pde_4_data_ex1_10_6)\n",
    "std_pde_5_ex1_10_6  = np.std(pde_5_data_ex1_10_6)\n",
    "std_pde_6_ex1_10_6  = np.std(pde_6_data_ex1_10_6)\n",
    "std_pde_7_ex1_10_6  = np.std(pde_7_data_ex1_10_6)\n",
    "std_pde_8_ex1_10_6  = np.std(pde_8_data_ex1_10_6)\n",
    "std_pde_9_ex1_10_6  = np.std(pde_9_data_ex1_10_6)\n",
    "\n",
    "med_pde_0A_ex1_10_6 = np.median(pde_0A_data_ex1_10_6)\n",
    "med_pde_0B_ex1_10_6 = np.median(pde_0B_data_ex1_10_6)\n",
    "med_pde_1_ex1_10_6 = np.median(pde_1_data_ex1_10_6)\n",
    "med_pde_2_ex1_10_6 = np.median(pde_2_data_ex1_10_6)\n",
    "med_pde_3_ex1_10_6 = np.median(pde_3_data_ex1_10_6)\n",
    "med_pde_4_ex1_10_6 = np.median(pde_4_data_ex1_10_6)\n",
    "med_pde_5_ex1_10_6 = np.median(pde_5_data_ex1_10_6)\n",
    "med_pde_6_ex1_10_6 = np.median(pde_6_data_ex1_10_6)\n",
    "med_pde_7_ex1_10_6 = np.median(pde_7_data_ex1_10_6)\n",
    "med_pde_8_ex1_10_6 = np.median(pde_8_data_ex1_10_6)\n",
    "med_pde_9_ex1_10_6 = np.median(pde_9_data_ex1_10_6)"
   ]
  },
  {
   "cell_type": "code",
   "execution_count": 27,
   "metadata": {},
   "outputs": [
    {
     "name": "stdout",
     "output_type": "stream",
     "text": [
      "unsig. undecided\n",
      "unsig. worse\n",
      "unsig. undecided\n",
      "unsig. worse\n",
      "unsig. worse\n",
      "sig. worse\n",
      "unsig. undecided\n",
      "unsig. undecided\n",
      "unsig. worse\n",
      "unsig. better\n",
      "unsig. undecided\n"
     ]
    }
   ],
   "source": [
    "pde_0A_stat_10_6 = pp.statsWilcoxon(pde_0A_data_ex1_10_6, pde_0A_data_ex0_10_6)\n",
    "pde_0B_stat_10_6 = pp.statsWilcoxon(pde_0B_data_ex1_10_6, pde_0B_data_ex0_10_6)\n",
    "pde_1_stat_10_6  = pp.statsWilcoxon(pde_1_data_ex1_10_6,  pde_1_data_ex0_10_6)\n",
    "pde_2_stat_10_6  = pp.statsWilcoxon(pde_2_data_ex1_10_6,  pde_2_data_ex0_10_6)\n",
    "pde_3_stat_10_6  = pp.statsWilcoxon(pde_3_data_ex1_10_6,  pde_3_data_ex0_10_6)\n",
    "pde_4_stat_10_6  = pp.statsWilcoxon(pde_4_data_ex1_10_6,  pde_4_data_ex0_10_6)\n",
    "pde_5_stat_10_6  = pp.statsWilcoxon(pde_5_data_ex1_10_6,  pde_5_data_ex0_10_6)\n",
    "pde_6_stat_10_6  = pp.statsWilcoxon(pde_6_data_ex1_10_6,  pde_6_data_ex0_10_6)\n",
    "pde_7_stat_10_6  = pp.statsWilcoxon(pde_7_data_ex1_10_6,  pde_7_data_ex0_10_6)\n",
    "pde_8_stat_10_6  = pp.statsWilcoxon(pde_8_data_ex1_10_6,  pde_8_data_ex0_10_6)\n",
    "pde_9_stat_10_6  = pp.statsWilcoxon(pde_9_data_ex1_10_6,  pde_9_data_ex0_10_6)\n",
    "\n",
    "print(pde_0A_stat_10_6)\n",
    "print(pde_0B_stat_10_6)\n",
    "print(pde_1_stat_10_6)\n",
    "print(pde_2_stat_10_6)\n",
    "print(pde_3_stat_10_6)\n",
    "print(pde_4_stat_10_6)\n",
    "print(pde_5_stat_10_6)\n",
    "print(pde_6_stat_10_6)\n",
    "print(pde_7_stat_10_6)\n",
    "print(pde_8_stat_10_6)\n",
    "print(pde_9_stat_10_6)"
   ]
  },
  {
   "cell_type": "code",
   "execution_count": 32,
   "metadata": {},
   "outputs": [],
   "source": [
    "import seaborn as sns"
   ]
  },
  {
   "cell_type": "code",
   "execution_count": 49,
   "metadata": {},
   "outputs": [
    {
     "data": {
      "text/plain": [
       "<matplotlib.legend.Legend at 0x21654d12348>"
      ]
     },
     "execution_count": 49,
     "metadata": {},
     "output_type": "execute_result"
    },
    {
     "data": {
      "image/png": "[encoded data removed]",
      "text/plain": [
       "<Figure size 432x288 with 1 Axes>"
      ]
     },
     "metadata": {
      "needs_background": "light"
     },
     "output_type": "display_data"
    }
   ],
   "source": [
    "ax = sns.distplot(pde_4_data_ex1_10_6, label=\"parallel JADE\")\n",
    "ax = sns.distplot(pde_4_data_ex0_10_6, label=\"serial JADE\")\n",
    "ax.set(xlabel='L2 Norm', ylabel='frequency')\n",
    "plt.legend()\n",
    "plt.grid()\n",
    "plt.savefig(\"pde4_ex0_ex1_histogram.pdf\")\n",
    "plt.show()"
   ]
  },
  {
   "cell_type": "code",
   "execution_count": null,
   "metadata": {},
   "outputs": [],
   "source": []
  }
 ],
 "metadata": {
  "kernelspec": {
   "display_name": "Python 3",
   "language": "python",
   "name": "python3"
  },
  "language_info": {
   "codemirror_mode": {
    "name": "ipython",
    "version": 3
   },
   "file_extension": ".py",
   "mimetype": "text/x-python",
   "name": "python",
   "nbconvert_exporter": "python",
   "pygments_lexer": "ipython3",
   "version": "3.7.6"
  }
 },
 "nbformat": 4,
 "nbformat_minor": 4
}
