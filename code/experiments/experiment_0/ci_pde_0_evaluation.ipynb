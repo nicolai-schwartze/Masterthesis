{
 "cells": [
  {
   "cell_type": "code",
   "execution_count": 1,
   "metadata": {},
   "outputs": [],
   "source": [
    "import sys\n",
    "sys.path.append(\"../../post_proc\")\n",
    "\n",
    "import post_proc as pp\n",
    "import pickle\n",
    "import matplotlib.pyplot as plt\n",
    "import numpy as np\n",
    "\n",
    "import sys "
   ]
  },
  {
   "cell_type": "code",
   "execution_count": 2,
   "metadata": {},
   "outputs": [],
   "source": [
    "# load data from file\n",
    "path = \"D:/Nicolai/MA_Data/experiment0/\"\n",
    "\n",
    "cipde0a = []\n",
    "for i in range(20):\n",
    "    cipde0a.append(pp.loadExpObject(path + \"cipde0a_rep_\" + str(i) + \".json\"))\n",
    "\n",
    "cipde0b = []\n",
    "for i in range(20):\n",
    "    cipde0b.append(pp.loadExpObject(path + \"cipde0b_rep_\" + str(i) + \".json\"))\n",
    "\n",
    "cipde1 = []\n",
    "for i in range(20):\n",
    "    cipde1.append(pp.loadExpObject(path + \"cipde1_rep_\" + str(i) + \".json\"))\n",
    "    \n",
    "cipde2 = []\n",
    "for i in range(20):\n",
    "    cipde2.append(pp.loadExpObject(path + \"cipde2_rep_\" + str(i) + \".json\"))\n",
    "    \n",
    "cipde3 = []\n",
    "for i in range(20):\n",
    "    cipde3.append(pp.loadExpObject(path + \"cipde3_rep_\" + str(i) + \".json\"))\n",
    "\n",
    "cipde4 = []\n",
    "for i in range(20):\n",
    "    cipde4.append(pp.loadExpObject(path + \"cipde4_rep_\" + str(i) + \".json\"))\n",
    "    \n",
    "cipde5 = []\n",
    "for i in range(20):\n",
    "    cipde5.append(pp.loadExpObject(path + \"cipde5_rep_\" + str(i) + \".json\"))\n",
    "    \n",
    "cipde6 = []\n",
    "for i in range(20):\n",
    "    cipde6.append(pp.loadExpObject(path + \"cipde6_rep_\" + str(i) + \".json\"))\n",
    "    \n",
    "cipde7 = []\n",
    "for i in range(20):\n",
    "    cipde7.append(pp.loadExpObject(path + \"cipde7_rep_\" + str(i) + \".json\"))\n",
    "    \n",
    "cipde8 = []\n",
    "for i in range(20):\n",
    "    cipde8.append(pp.loadExpObject(path + \"cipde8_rep_\" + str(i) + \".json\"))\n",
    "    \n",
    "cipde9 = []\n",
    "for i in range(20):\n",
    "    cipde9.append(pp.loadExpObject(path + \"cipde9_rep_\" + str(i) + \".json\"))"
   ]
  },
  {
   "cell_type": "code",
   "execution_count": 3,
   "metadata": {},
   "outputs": [],
   "source": [
    "time_pde_0A = [t[\"exec_time\"] for t in cipde0a]\n",
    "time_pde_0B = [t[\"exec_time\"] for t in cipde0b]\n",
    "time_pde_1  = [t[\"exec_time\"] for t in cipde1]\n",
    "time_pde_2  = [t[\"exec_time\"] for t in cipde2]\n",
    "time_pde_3  = [t[\"exec_time\"] for t in cipde3]\n",
    "time_pde_4  = [t[\"exec_time\"] for t in cipde4]\n",
    "time_pde_5  = [t[\"exec_time\"] for t in cipde5]\n",
    "time_pde_6  = [t[\"exec_time\"] for t in cipde6]\n",
    "time_pde_7  = [t[\"exec_time\"] for t in cipde7]\n",
    "time_pde_8  = [t[\"exec_time\"] for t in cipde8]\n",
    "time_pde_9  = [t[\"exec_time\"] for t in cipde9]\n",
    "\n",
    "t_data = [time_pde_0A, time_pde_0B, time_pde_1, \\\n",
    "          time_pde_2, time_pde_3, time_pde_4, time_pde_5, \\\n",
    "          time_pde_6, time_pde_7, time_pde_8, time_pde_9]"
   ]
  },
  {
   "cell_type": "code",
   "execution_count": 4,
   "metadata": {
    "scrolled": false
   },
   "outputs": [
    {
     "data": {
      "image/png": "[encoded data removed]",
      "text/plain": [
       "<Figure size 504x504 with 1 Axes>"
      ]
     },
     "metadata": {
      "needs_background": "light"
     },
     "output_type": "display_data"
    }
   ],
   "source": [
    "fig, ax = plt.subplots(figsize=(7,7))\n",
    "labels = ['pde0A', 'pde0B', 'pde1', 'pde2', 'pde3',\\\n",
    "          'pde4', 'pde5', 'pde6', 'pde7', 'pde8', 'pde9']\n",
    "ax.boxplot(t_data, labels=labels)\n",
    "ax.set_title('Box Plot CI Solving Time')\n",
    "ax.set_ylabel('time [s]')\n",
    "plt.grid()\n",
    "plt.show()\n",
    "fig.savefig(\"time_boxplot_ci_exp0.pdf\", bbox_inches='tight')"
   ]
  },
  {
   "cell_type": "code",
   "execution_count": 5,
   "metadata": {},
   "outputs": [],
   "source": [
    "mem_pde_0A = [t[\"mem_consumption\"]/10**6 for t in cipde0a]\n",
    "mem_pde_0B = [t[\"mem_consumption\"]/10**6 for t in cipde0b]\n",
    "mem_pde_1  = [t[\"mem_consumption\"]/10**6 for t in cipde1]\n",
    "mem_pde_2  = [t[\"mem_consumption\"]/10**6 for t in cipde2]\n",
    "mem_pde_3  = [t[\"mem_consumption\"]/10**6 for t in cipde3]\n",
    "mem_pde_4  = [t[\"mem_consumption\"]/10**6 for t in cipde4]\n",
    "mem_pde_5  = [t[\"mem_consumption\"]/10**6 for t in cipde5]\n",
    "mem_pde_6  = [t[\"mem_consumption\"]/10**6 for t in cipde6]\n",
    "mem_pde_7  = [t[\"mem_consumption\"]/10**6 for t in cipde7]\n",
    "mem_pde_8  = [t[\"mem_consumption\"]/10**6 for t in cipde8]\n",
    "mem_pde_9  = [t[\"mem_consumption\"]/10**6 for t in cipde9]\n",
    "\n",
    "m_data = [mem_pde_0A, mem_pde_0B, mem_pde_1, \\\n",
    "          mem_pde_2, mem_pde_3, mem_pde_4, mem_pde_5, \\\n",
    "          mem_pde_6, mem_pde_7, mem_pde_8, mem_pde_9]"
   ]
  },
  {
   "cell_type": "code",
   "execution_count": 6,
   "metadata": {
    "scrolled": false
   },
   "outputs": [
    {
     "data": {
      "image/png": "[encoded data removed]",
      "text/plain": [
       "<Figure size 504x504 with 1 Axes>"
      ]
     },
     "metadata": {
      "needs_background": "light"
     },
     "output_type": "display_data"
    }
   ],
   "source": [
    "fig, ax = plt.subplots(figsize=(7,7))\n",
    "labels = ['pde0A', 'pde0B', 'pde1', 'pde2', 'pde3',\\\n",
    "          'pde4', 'pde5', 'pde6', 'pde7', 'pde8', 'pde9']\n",
    "ax.boxplot(m_data, labels=labels)\n",
    "ax.set_title('Box Plot CI Memory Usage')\n",
    "ax.set_ylabel('memory [Mbyte]')\n",
    "plt.grid()\n",
    "plt.show()\n",
    "fig.savefig(\"mem_boxplot_ci_exp0.pdf\", bbox_inches='tight')"
   ]
  },
  {
   "cell_type": "code",
   "execution_count": 7,
   "metadata": {},
   "outputs": [
    {
     "name": "stdout",
     "output_type": "stream",
     "text": [
      "1.9414841168368233\n",
      "0.7137090880760255\n",
      "0.18738601502654934\n",
      "0.08897063643761706\n",
      "0.24094120139439035\n",
      "0.11020828129427537\n",
      "0.6645134521833115\n",
      "1.9660284017692415\n",
      "0.04570354335267659\n",
      "0.21862319259791835\n",
      "0.05251361349418053\n"
     ]
    }
   ],
   "source": [
    "# minimum distance reached\n",
    "dist_pde_0A = np.mean([t[\"normL2\"] for t in cipde0a])\n",
    "dist_pde_0B = np.mean([t[\"normL2\"] for t in cipde0b])\n",
    "dist_pde_1  = np.mean([t[\"normL2\"] for t in cipde1])\n",
    "dist_pde_2  = np.mean([t[\"normL2\"] for t in cipde2])\n",
    "dist_pde_3  = np.mean([t[\"normL2\"] for t in cipde3])\n",
    "dist_pde_4  = np.mean([t[\"normL2\"] for t in cipde4])\n",
    "dist_pde_5  = np.mean([t[\"normL2\"] for t in cipde5])\n",
    "dist_pde_6  = np.mean([t[\"normL2\"] for t in cipde6])\n",
    "dist_pde_7  = np.mean([t[\"normL2\"] for t in cipde7])\n",
    "dist_pde_8  = np.mean([t[\"normL2\"] for t in cipde8])\n",
    "dist_pde_9  = np.mean([t[\"normL2\"] for t in cipde9])\n",
    "print(dist_pde_0A)\n",
    "print(dist_pde_0B)\n",
    "print(dist_pde_1)\n",
    "print(dist_pde_2)\n",
    "print(dist_pde_3)\n",
    "print(dist_pde_4)\n",
    "print(dist_pde_5)\n",
    "print(dist_pde_6)\n",
    "print(dist_pde_7)\n",
    "print(dist_pde_8)\n",
    "print(dist_pde_9)"
   ]
  },
  {
   "cell_type": "code",
   "execution_count": null,
   "metadata": {},
   "outputs": [],
   "source": []
  }
 ],
 "metadata": {
  "kernelspec": {
   "display_name": "Python 3",
   "language": "python",
   "name": "python3"
  },
  "language_info": {
   "codemirror_mode": {
    "name": "ipython",
    "version": 3
   },
   "file_extension": ".py",
   "mimetype": "text/x-python",
   "name": "python",
   "nbconvert_exporter": "python",
   "pygments_lexer": "ipython3",
   "version": "3.7.6"
  }
 },
 "nbformat": 4,
 "nbformat_minor": 4
}
