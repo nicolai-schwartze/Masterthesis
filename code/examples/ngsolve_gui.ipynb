{
 "cells": [
  {
   "cell_type": "markdown",
   "metadata": {},
   "source": [
    "## Before Running Look at the Requirements in the ReadMe"
   ]
  },
  {
   "cell_type": "code",
   "execution_count": 1,
   "metadata": {},
   "outputs": [],
   "source": [
    "import netgen.gui\n",
    "from ngsolve import *\n",
    "from netgen.geom2d import SplineGeometry\n",
    "from netgen.geom2d import unit_square\n",
    "%gui tk"
   ]
  },
  {
   "cell_type": "code",
   "execution_count": 2,
   "metadata": {},
   "outputs": [],
   "source": [
    "import sys\n",
    "sys.path.append(\"../testbed/pde0A\")\n",
    "import FemPde0A"
   ]
  },
  {
   "cell_type": "code",
   "execution_count": 3,
   "metadata": {},
   "outputs": [
    {
     "name": "stderr",
     "output_type": "stream",
     "text": [
      "iteration 0 error = 4.36399527613595\n",
      "iteration 1 error = 0.026278321212051252\n",
      "iteration 2 error = 0.00046788604630149745\n",
      "iteration 3 error = 8.060019621079413e-06\n",
      "iteration 4 error = 1.6027837548351058e-07\n",
      "iteration 5 error = 3.771241560582743e-09\n",
      "iteration 0 error = 4.362730309732201\n",
      "iteration 1 error = 0.03863125695123807\n",
      "iteration 2 error = 0.0022395822559833373\n",
      "iteration 3 error = 0.00020447286099848215\n",
      "iteration 4 error = 2.2377347427201093e-05\n",
      "iteration 5 error = 2.2209539866338955e-06\n",
      "iteration 6 error = 2.784155702490624e-07\n",
      "iteration 7 error = 3.521109601999093e-08\n",
      "iteration 0 error = 4.362191081383111\n",
      "iteration 1 error = 0.04147085216993004\n",
      "iteration 2 error = 0.002439034307758636\n",
      "iteration 3 error = 0.00021099599411818985\n",
      "iteration 4 error = 2.200073133081515e-05\n",
      "iteration 5 error = 2.499238066869605e-06\n",
      "iteration 6 error = 2.7114706965435037e-07\n",
      "iteration 7 error = 3.5894312178084214e-08\n",
      "iteration 0 error = 4.3614444614314705\n",
      "iteration 1 error = 0.044506242184085214\n",
      "iteration 2 error = 0.0027707736400452224\n",
      "iteration 3 error = 0.00024050573492922996\n",
      "iteration 4 error = 2.589026723090191e-05\n",
      "iteration 5 error = 2.967473602467203e-06\n",
      "iteration 6 error = 3.286076896888671e-07\n",
      "iteration 7 error = 4.245007132918409e-08\n",
      "iteration 0 error = 4.3604659578942355\n",
      "iteration 1 error = 0.046991240752697824\n",
      "iteration 2 error = 0.003104456250690022\n",
      "iteration 3 error = 0.00028975042492260396\n",
      "iteration 4 error = 3.210215766147142e-05\n",
      "iteration 5 error = 3.9711545045943456e-06\n",
      "iteration 6 error = 4.520197481415615e-07\n",
      "iteration 7 error = 5.491186473517998e-08\n",
      "iteration 8 error = 6.791522690232683e-09\n",
      "iteration 0 error = 4.360170675592834\n",
      "iteration 1 error = 0.04709826931081097\n",
      "iteration 2 error = 0.003254439857323258\n",
      "iteration 3 error = 0.00032097216419187493\n",
      "iteration 4 error = 3.532426963790445e-05\n",
      "iteration 5 error = 4.193449795137851e-06\n",
      "iteration 6 error = 4.933562885799129e-07\n",
      "iteration 7 error = 5.947550446978758e-08\n",
      "iteration 8 error = 7.201442414329563e-09\n",
      "iteration 0 error = 4.360416411830219\n",
      "iteration 1 error = 0.04628161727853991\n",
      "iteration 2 error = 0.003318858721995796\n",
      "iteration 3 error = 0.0003324657956255697\n",
      "iteration 4 error = 3.721377951981712e-05\n",
      "iteration 5 error = 4.450548518164599e-06\n",
      "iteration 6 error = 5.409280218356697e-07\n",
      "iteration 7 error = 6.88225810606526e-08\n",
      "iteration 8 error = 8.571987613458374e-09\n",
      "iteration 0 error = 4.364019081998046\n",
      "iteration 1 error = 0.04915835018845617\n",
      "iteration 2 error = 0.003683898873213375\n",
      "iteration 3 error = 0.00038236267418354316\n",
      "iteration 4 error = 4.026452678920727e-05\n",
      "iteration 5 error = 4.8230985011093155e-06\n",
      "iteration 6 error = 5.928363324913489e-07\n",
      "iteration 7 error = 7.433646973196e-08\n",
      "iteration 8 error = 9.705862036900522e-09\n",
      "iteration 0 error = 4.37615626916993\n",
      "iteration 1 error = 0.06149674420733233\n",
      "iteration 2 error = 0.007083581975528511\n",
      "iteration 3 error = 0.0008953673813883482\n",
      "iteration 4 error = 0.00010367891252777338\n",
      "iteration 5 error = 9.78268104079708e-06\n",
      "iteration 6 error = 1.084892161890855e-06\n",
      "iteration 7 error = 1.041653459443945e-07\n",
      "iteration 8 error = 1.0567050779403314e-08\n",
      "iteration 0 error = 4.386556001301081\n",
      "iteration 1 error = 0.06352545949662305\n",
      "iteration 2 error = 0.007269904153970254\n",
      "iteration 3 error = 0.0010164202489957904\n",
      "iteration 4 error = 0.00011398556557061871\n",
      "iteration 5 error = 1.18403339260988e-05\n",
      "iteration 6 error = 1.3695834529953953e-06\n",
      "iteration 7 error = 1.505540656483405e-07\n",
      "iteration 8 error = 1.7590153137090826e-08\n"
     ]
    }
   ],
   "source": [
    "fempde0a = FemPde0A.FemPde0A(True)\n",
    "fempde0a.solve()"
   ]
  },
  {
   "cell_type": "code",
   "execution_count": null,
   "metadata": {},
   "outputs": [],
   "source": []
  }
 ],
 "metadata": {
  "kernelspec": {
   "display_name": "Python 3",
   "language": "python",
   "name": "python3"
  },
  "language_info": {
   "codemirror_mode": {
    "name": "ipython",
    "version": 3
   },
   "file_extension": ".py",
   "mimetype": "text/x-python",
   "name": "python",
   "nbconvert_exporter": "python",
   "pygments_lexer": "ipython3",
   "version": "3.7.8"
  }
 },
 "nbformat": 4,
 "nbformat_minor": 4
}
