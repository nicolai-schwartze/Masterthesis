{
 "cells": [
  {
   "cell_type": "code",
   "execution_count": 1,
   "metadata": {},
   "outputs": [],
   "source": [
    "import sys\n",
    "sys.path.append(\"../../post_proc\")\n",
    "\n",
    "import post_proc as pp\n",
    "import numpy as np\n",
    "import matplotlib.pyplot as plt\n",
    "\n",
    "sys.path.append(\"../../kernels\")\n",
    "import KernelGauss as gak\n",
    "import KernelGSin as gsk\n",
    "\n",
    "import pickle"
   ]
  },
  {
   "cell_type": "code",
   "execution_count": 2,
   "metadata": {},
   "outputs": [],
   "source": [
    "# load experiment 0 @ 10^3 #FE data from file\n",
    "path = \"F:/FHV/Masterthesis/data_backup/MA_Data/experiment_0_10_3/\"\n",
    "\n",
    "cipde5_ex0_10_3 = []\n",
    "for i in range(20):\n",
    "    cipde5_ex0_10_3.append(pp.loadExpObjectFast(path + \"cipde5_mj_rep_\" + str(i) + \".json\"))\n",
    "    \n",
    "# load experiment 0 @ 10^4 #FE data from file\n",
    "path = \"F:/FHV/Masterthesis/data_backup/MA_Data/time_experiment_0/\"\n",
    "\n",
    "cipde5_ex0_10_4 = []\n",
    "for i in range(20):\n",
    "    cipde5_ex0_10_4.append(pp.loadExpObjectFast(path + \"cipde5_mj_rep_\" + str(i) + \".json\"))\n",
    "    \n",
    "# load experiment 0 @ 10^5 #FE data from file\n",
    "path = \"F:/FHV/Masterthesis/data_backup/MA_Data/experiment_0_10_5/\"\n",
    "\n",
    "cipde5_ex0_10_5 = []\n",
    "for i in range(20):\n",
    "    cipde5_ex0_10_5.append(pp.loadExpObjectFast(path + \"cipde5_mj_rep_\" + str(i) + \".json\"))\n",
    "    \n",
    "# load experiment 0 @ 10^6 #FE data from file\n",
    "path = \"F:/FHV/Masterthesis/data_backup/MA_Data/experiment_0/\"\n",
    "\n",
    "cipde5_ex0_10_6 = []\n",
    "for i in range(20):\n",
    "    cipde5_ex0_10_6.append(pp.loadExpObjectFast(path + \"cipde5_mj_rep_\" + str(i) + \".json\"))"
   ]
  },
  {
   "cell_type": "code",
   "execution_count": 3,
   "metadata": {},
   "outputs": [],
   "source": [
    "# load experiment 1 @ 10^3 #FE data from file\n",
    "path = \"F:/FHV/Masterthesis/data_backup/MA_Data/experiment_1_10_3/\"\n",
    "\n",
    "cipde5_ex1_10_3 = []\n",
    "for i in range(20):\n",
    "    cipde5_ex1_10_3.append(pp.loadExpObjectFast(path + \"cipde5_mpj_rep_\" + str(i) + \".json\"))\n",
    "    \n",
    "# load experiment 1 @ 10^4 #FE data from file\n",
    "path = \"F:/FHV/Masterthesis/data_backup/MA_Data/time_experiment_1/\"\n",
    "\n",
    "cipde5_ex1_10_4 = []\n",
    "for i in range(20):\n",
    "    cipde5_ex1_10_4.append(pp.loadExpObjectFast(path + \"cipde5_mpj_rep_\" + str(i) + \".json\"))\n",
    "    \n",
    "# load experiment 1 @ 10^5 #FE data from file\n",
    "path = \"F:/FHV/Masterthesis/data_backup/MA_Data/experiment_1_10_5/\"\n",
    "\n",
    "cipde5_ex1_10_5 = []\n",
    "for i in range(20):\n",
    "    cipde5_ex1_10_5.append(pp.loadExpObjectFast(path + \"cipde5_mpj_rep_\" + str(i) + \".json\"))\n",
    "    \n",
    "# load experiment 1 @ 10^6 #FE data from file\n",
    "path = \"F:/FHV/Masterthesis/data_backup/MA_Data/experiment_1/\"\n",
    "\n",
    "cipde5_ex1_10_6 = []\n",
    "for i in range(20):\n",
    "    cipde5_ex1_10_6.append(pp.loadExpObjectFast(path + \"cipde5_mpj_rep_\" + str(i) + \".json\"))"
   ]
  },
  {
   "cell_type": "code",
   "execution_count": 4,
   "metadata": {},
   "outputs": [],
   "source": [
    "# load experiment 2 @ 10^3 #FE data from file\n",
    "path = \"F:/FHV/Masterthesis/data_backup/MA_Data/experiment_2_10_3/\"\n",
    "\n",
    "cipde5_ex2_10_3 = []\n",
    "for i in range(20):\n",
    "    cipde5_ex2_10_3.append(pp.loadExpObjectFast(path + \"cipde5_mpja_rep_\" + str(i) + \".json\"))\n",
    "    \n",
    "# load experiment 2 @ 10^4 #FE data from file\n",
    "path = \"F:/FHV/Masterthesis/data_backup/MA_Data/time_experiment_2/\"\n",
    "\n",
    "cipde5_ex2_10_4 = []\n",
    "for i in range(20):\n",
    "    cipde5_ex2_10_4.append(pp.loadExpObjectFast(path + \"cipde5_mpja_rep_\" + str(i) + \".json\"))\n",
    "    \n",
    "# load experiment 2 @ 10^5 #FE data from file\n",
    "path = \"F:/FHV/Masterthesis/data_backup/MA_Data/experiment_2_10_5/\"\n",
    "\n",
    "cipde5_ex2_10_5 = []\n",
    "for i in range(20):\n",
    "    cipde5_ex2_10_5.append(pp.loadExpObjectFast(path + \"cipde5_mpja_rep_\" + str(i) + \".json\"))\n",
    "    \n",
    "# load experiment 2 @ 10^6 #FE data from file\n",
    "path = \"F:/FHV/Masterthesis/data_backup/MA_Data/experiment_2/\"\n",
    "\n",
    "cipde5_ex2_10_6 = []\n",
    "for i in range(20):\n",
    "    cipde5_ex2_10_6.append(pp.loadExpObjectFast(path + \"cipde5_mpja_rep_\" + str(i) + \".json\"))"
   ]
  },
  {
   "cell_type": "code",
   "execution_count": 5,
   "metadata": {},
   "outputs": [],
   "source": [
    "# load experiment 3 @ 10^3 #FE data from file\n",
    "path = \"F:/FHV/Masterthesis/data_backup/MA_Data/experiment_3_10_3/\"\n",
    "\n",
    "cipde5_ex3_10_3 = []\n",
    "for i in range(20):\n",
    "    cipde5_ex3_10_3.append(pp.loadExpObjectFast(path + \"cipde5_mpjgsk_rep_\" + str(i) + \".json\"))\n",
    "    \n",
    "# load experiment 3 @ 10^4 #FE data from file\n",
    "path = \"F:/FHV/Masterthesis/data_backup/MA_Data/time_experiment_3/\"\n",
    "\n",
    "cipde5_ex3_10_4 = []\n",
    "for i in range(20):\n",
    "    cipde5_ex3_10_4.append(pp.loadExpObjectFast(path + \"cipde5_mpjgsk_rep_\" + str(i) + \".json\"))\n",
    "    \n",
    "# load experiment 3 @ 10^5 #FE data from file\n",
    "path = \"F:/FHV/Masterthesis/data_backup/MA_Data/experiment_3_10_5/\"\n",
    "\n",
    "cipde5_ex3_10_5 = []\n",
    "for i in range(20):\n",
    "    cipde5_ex3_10_5.append(pp.loadExpObjectFast(path + \"cipde5_mpjgsk_rep_\" + str(i) + \".json\"))\n",
    "    \n",
    "# load experiment 3 @ 10^6 #FE data from file\n",
    "path = \"F:/FHV/Masterthesis/data_backup/MA_Data/experiment_3/\"\n",
    "\n",
    "cipde5_ex3_10_6 = []\n",
    "for i in range(20):\n",
    "    cipde5_ex3_10_6.append(pp.loadExpObjectFast(path + \"cipde5_mpjgsk_rep_\" + str(i) + \".json\"))"
   ]
  },
  {
   "cell_type": "code",
   "execution_count": 6,
   "metadata": {},
   "outputs": [],
   "source": [
    "# load experiment 3a @ 10^3 #FE data from file\n",
    "path = \"F:/FHV/Masterthesis/data_backup/MA_Data/experiment_3a_10_3/\"\n",
    "\n",
    "cipde5_ex3a_10_3 = []\n",
    "for i in range(20):\n",
    "    cipde5_ex3a_10_3.append(pp.loadExpObjectFast(path + \"cipde5_mpjagsk_rep_\" + str(i) + \".json\"))\n",
    "    \n",
    "# load experiment 3a @ 10^4 #FE data from file\n",
    "path = \"F:/FHV/Masterthesis/data_backup/MA_Data/time_experiment_3a/\"\n",
    "\n",
    "cipde5_ex3a_10_4 = []\n",
    "for i in range(20):\n",
    "    cipde5_ex3a_10_4.append(pp.loadExpObjectFast(path + \"cipde5_mpjagsk_rep_\" + str(i) + \".json\"))\n",
    "    \n",
    "# load experiment 3a @ 10^5 #FE data from file\n",
    "path = \"F:/FHV/Masterthesis/data_backup/MA_Data/experiment_3a_10_5/\"\n",
    "\n",
    "cipde5_ex3a_10_5 = []\n",
    "for i in range(20):\n",
    "    cipde5_ex3a_10_5.append(pp.loadExpObjectFast(path + \"cipde5_mpjagsk_rep_\" + str(i) + \".json\"))\n",
    "\n",
    "# load experiment 3a @ 10^6 #FE data from file\n",
    "path = \"F:/FHV/Masterthesis/data_backup/MA_Data/experiment_3a/\"\n",
    "\n",
    "cipde5_ex3a_10_6 = []\n",
    "for i in range(20):\n",
    "    cipde5_ex3a_10_6.append(pp.loadExpObjectFast(path + \"cipde5_mpjagsk_rep_\" + str(i) + \".json\"))"
   ]
  },
  {
   "cell_type": "markdown",
   "metadata": {},
   "source": [
    "# Calculate/Load GaK Norm"
   ]
  },
  {
   "cell_type": "code",
   "execution_count": 2,
   "metadata": {},
   "outputs": [],
   "source": [
    "import scipy.integrate as integrate\n",
    "\n",
    "def pde5_exact(x): \n",
    "    y = x[1]\n",
    "    x = x[0]\n",
    "    return np.arctan(20*(np.sqrt((x - 0.05)**2 + (y - 0.05)**2) -0.7))\n",
    "\n",
    "def normL2_pde5(approx):\n",
    "    difference_func = lambda x,y: \\\n",
    "    (approx(np.array([x,y])) - pde5_exact(np.array([x,y]))) * \\\n",
    "    (approx(np.array([x,y])) - pde5_exact(np.array([x,y])))\n",
    "    return np.sqrt(integrate.dblquad(difference_func, 0, 1, 0, 1)[0])\n"
   ]
  },
  {
   "cell_type": "code",
   "execution_count": 3,
   "metadata": {},
   "outputs": [],
   "source": [
    "# load experiment 0 @ 10^6 #FE data from file\n",
    "path = \"F:/FHV/Masterthesis/data_backup/MA_Data/experiment_0/\"\n",
    "\n",
    "cipde5_ex0_10_6 = pp.loadExpObject(path + \"cipde5_mj_rep_\" + str(0) + \".json\")"
   ]
  },
  {
   "cell_type": "code",
   "execution_count": 4,
   "metadata": {},
   "outputs": [],
   "source": [
    "with open(\"pde5_norm_hist_ex0.p\", \"rb\") as f:\n",
    "    norm_history_gak = pickle.load(f)"
   ]
  },
  {
   "cell_type": "code",
   "execution_count": null,
   "metadata": {},
   "outputs": [],
   "source": [
    "norm_history = []\n",
    "pop_history = [ind[6] for ind in cipde5_ex0_10_6[\"pop_history\"]]\n",
    "kernel = gak.KernelGauss()\n",
    "for ind in range(len(pop_history)):\n",
    "    approx = lambda x: kernel.solution(pop_history[ind].reshape((5,4)), x)\n",
    "    norm_history.append(normL2_pde5(approx))\n",
    "    print(str(ind/len(pop_history)*100) + \" %\" )\n",
    "    \n",
    "with open(\"pde5_norm_hist_ex0_backup.p\", \"wb\") as f:\n",
    "    pickle.dump(norm_history, f)\n",
    "    \n",
    "f.close()"
   ]
  },
  {
   "cell_type": "code",
   "execution_count": 5,
   "metadata": {},
   "outputs": [
    {
     "data": {
      "image/png": "[encoded data removed]",
      "text/plain": [
       "<Figure size 432x288 with 2 Axes>"
      ]
     },
     "metadata": {},
     "output_type": "display_data"
    }
   ],
   "source": [
    "fit_history = [ind[6] for ind in cipde5_ex0_10_6[\"fit_history\"]]\n",
    "\n",
    "fig, ax1 = plt.subplots()\n",
    "ax1.set_xlabel(\"Generation\")\n",
    "ax1.set_ylabel(\"Fitness\", color=\"C0\")\n",
    "ax1.tick_params(axis='y', labelcolor=\"C0\")\n",
    "ax1.plot(fit_history, color=\"C0\")\n",
    "\n",
    "ax2 = ax1.twinx()\n",
    "ax2.set_ylabel(\"L2 Norm\", color=\"C1\")\n",
    "ax2.plot(norm_history_gak, color=\"C1\")\n",
    "ax2.tick_params(axis='y', labelcolor=\"C1\")\n",
    "ax2.spines['right'].set_color('C1')\n",
    "ax2.spines['left'].set_color('C0')\n",
    "\n",
    "plt.grid()\n",
    "plt.title(\"PDE 5 GaK\")\n",
    "plt.savefig(\"pde5_gak_fit_l2_history.pdf\", bbox_inches='tight')\n",
    "plt.show()"
   ]
  },
  {
   "cell_type": "markdown",
   "metadata": {},
   "source": [
    "# Calculate/Load GSK Norm"
   ]
  },
  {
   "cell_type": "code",
   "execution_count": 6,
   "metadata": {},
   "outputs": [],
   "source": [
    "# load experiment 0 @ 10^6 #FE data from file\n",
    "path = \"F:/FHV/Masterthesis/data_backup/MA_Data/experiment_3/\"\n",
    "\n",
    "full_cipde5_ex3_10_6 = pp.loadExpObject(path + \"cipde5_mpjgsk_rep_\" + str(0) + \".json\")"
   ]
  },
  {
   "cell_type": "code",
   "execution_count": 7,
   "metadata": {},
   "outputs": [],
   "source": [
    "with open(\"pde5_norm_hist_ex3.p\", \"rb\") as f:\n",
    "    norm_history_gsk = pickle.load(f)"
   ]
  },
  {
   "cell_type": "code",
   "execution_count": null,
   "metadata": {},
   "outputs": [],
   "source": [
    "norm_history = []\n",
    "pop_history = [ind[3] for ind in full_cipde5_ex3_10_6[\"pop_history\"]]\n",
    "kernel = gsk.KernelGSin()\n",
    "for ind in range(len(pop_history)):\n",
    "    approx = lambda x: kernel.solution(pop_history[ind].reshape((5,6)), x)\n",
    "    norm_history.append(normL2_pde5(approx))\n",
    "    print(str(ind/len(pop_history)*100) + \" %\" )\n",
    "    \n",
    "with open(\"pde5_norm_hist_ex3_backup.p\", \"wb\") as f:\n",
    "    pickle.dump(norm_history, f)\n",
    "    \n",
    "f.close()"
   ]
  },
  {
   "cell_type": "code",
   "execution_count": 8,
   "metadata": {},
   "outputs": [
    {
     "data": {
      "image/png": "[encoded data removed]",
      "text/plain": [
       "<Figure size 432x288 with 2 Axes>"
      ]
     },
     "metadata": {},
     "output_type": "display_data"
    }
   ],
   "source": [
    "fit_history = [ind[3] for ind in full_cipde5_ex3_10_6[\"fit_history\"]]\n",
    "\n",
    "fig, ax1 = plt.subplots()\n",
    "ax1.set_xlabel(\"Generation\")\n",
    "ax1.set_ylabel(\"Fitness\", color=\"C0\")\n",
    "ax1.tick_params(axis='y', labelcolor=\"C0\")\n",
    "ax1.plot(fit_history, color=\"C0\")\n",
    "\n",
    "ax2 = ax1.twinx()\n",
    "ax2.set_ylabel(\"L2 Norm\", color=\"C1\")\n",
    "ax2.plot(norm_history_gsk, color=\"C1\")\n",
    "ax2.tick_params(axis='y', labelcolor=\"C1\")\n",
    "ax2.spines['right'].set_color('C1')\n",
    "ax2.spines['left'].set_color('C0')\n",
    "\n",
    "plt.grid()\n",
    "plt.title(\"PDE 5 GSK\")\n",
    "plt.savefig(\"pde5_gsk_fit_l2_history.pdf\", bbox_inches='tight')\n",
    "plt.show()"
   ]
  },
  {
   "cell_type": "code",
   "execution_count": 10,
   "metadata": {},
   "outputs": [],
   "source": [
    "def rmse_pde5(approx):\n",
    "    nc = []\n",
    "    omega = np.arange(0.1, 1.0, 0.1)\n",
    "    for x0 in omega:\n",
    "        for x1 in omega:\n",
    "            nc.append((x0, x1))\n",
    "            \n",
    "    # boundary points\n",
    "    nb = []\n",
    "    nby = np.hstack((np.zeros(10), np.arange(0.0, 1.0, 0.1), np.ones(10), np.arange(1.0, 0.0, -0.1)))\n",
    "    nbx = np.hstack((np.arange(0.0, 1.0, 0.1), np.ones(10), np.arange(1.0, 0.0, -0.1), np.zeros(10)))\n",
    "    for i in range(40):\n",
    "        nb.append((nbx[i], nby[i]))\n",
    "    \n",
    "    # partial sum for collocation points\n",
    "    part_sum_c = 0.0\n",
    "    for c in nc:\n",
    "        part_sum_c += (approx(c) - pde5_exact(c))**2\n",
    "        \n",
    "    # partial sum for boundary boints\n",
    "    part_sum_b = 0.0\n",
    "    for b in nb:\n",
    "        part_sum_b += (approx(b) - pde5_exact(b))**2\n",
    "        \n",
    "    return np.sqrt((part_sum_c + part_sum_b)/(len(nb) + len(nc)))"
   ]
  },
  {
   "cell_type": "code",
   "execution_count": null,
   "metadata": {},
   "outputs": [],
   "source": [
    "rmse_history = []\n",
    "pop_history = [ind[3] for ind in full_cipde5_ex3_10_6[\"pop_history\"]]\n",
    "kernel = gsk.KernelGSin()\n",
    "for ind in range(len(pop_history)):\n",
    "    approx = lambda x: kernel.solution(pop_history[ind].reshape((5,6)), x)\n",
    "    rmse_history.append(rmse_pde5(approx))\n",
    "    print(str(ind/len(pop_history)*100) + \" %\" )\n",
    "    \n",
    "with open(\"pde5_rmse_hist_ex3_backup.p\", \"wb\") as f:\n",
    "    pickle.dump(rmse_history, f)\n",
    "    \n",
    "f.close()"
   ]
  },
  {
   "cell_type": "code",
   "execution_count": 12,
   "metadata": {},
   "outputs": [
    {
     "data": {
      "text/plain": [
       "[<matplotlib.lines.Line2D at 0x16502d15808>]"
      ]
     },
     "execution_count": 12,
     "metadata": {},
     "output_type": "execute_result"
    },
    {
     "data": {
      "image/png": "[encoded data removed]",
      "text/plain": [
       "<Figure size 432x288 with 1 Axes>"
      ]
     },
     "metadata": {
      "needs_background": "light"
     },
     "output_type": "display_data"
    }
   ],
   "source": [
    "plt.plot(rmse_history)"
   ]
  },
  {
   "cell_type": "code",
   "execution_count": null,
   "metadata": {},
   "outputs": [],
   "source": [
    "rmse_history = []\n",
    "pop_history = [ind[6] for ind in cipde5_ex0_10_6[\"pop_history\"]]\n",
    "kernel = gak.KernelGauss()\n",
    "for ind in range(len(pop_history)):\n",
    "    approx = lambda x: kernel.solution(pop_history[ind].reshape((5,4)), x)\n",
    "    rmse_history.append(rmse_pde5(approx))\n",
    "    print(str(ind/len(pop_history)*100) + \" %\" )\n",
    "    \n",
    "with open(\"pde5_norm_hist_ex0_backup.p\", \"wb\") as f:\n",
    "    pickle.dump(rmse_history, f)\n",
    "    \n",
    "f.close()"
   ]
  },
  {
   "cell_type": "code",
   "execution_count": 14,
   "metadata": {},
   "outputs": [
    {
     "data": {
      "text/plain": [
       "[<matplotlib.lines.Line2D at 0x165031083c8>]"
      ]
     },
     "execution_count": 14,
     "metadata": {},
     "output_type": "execute_result"
    },
    {
     "data": {
      "image/png": "[encoded data removed]",
      "text/plain": [
       "<Figure size 432x288 with 1 Axes>"
      ]
     },
     "metadata": {
      "needs_background": "light"
     },
     "output_type": "display_data"
    }
   ],
   "source": [
    "plt.plot(rmse_history)"
   ]
  },
  {
   "cell_type": "code",
   "execution_count": null,
   "metadata": {},
   "outputs": [],
   "source": []
  }
 ],
 "metadata": {
  "kernelspec": {
   "display_name": "Python 3",
   "language": "python",
   "name": "python3"
  },
  "language_info": {
   "codemirror_mode": {
    "name": "ipython",
    "version": 3
   },
   "file_extension": ".py",
   "mimetype": "text/x-python",
   "name": "python",
   "nbconvert_exporter": "python",
   "pygments_lexer": "ipython3",
   "version": "3.7.6"
  }
 },
 "nbformat": 4,
 "nbformat_minor": 4
}
