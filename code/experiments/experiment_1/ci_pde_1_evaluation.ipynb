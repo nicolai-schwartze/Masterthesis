{
 "cells": [
  {
   "cell_type": "code",
   "execution_count": 1,
   "metadata": {},
   "outputs": [],
   "source": [
    "import sys\n",
    "sys.path.append(\"../../post_proc\")\n",
    "\n",
    "import post_proc as pp\n",
    "import pickle\n",
    "import matplotlib.pyplot as plt\n",
    "import numpy as np\n",
    "\n",
    "import sys "
   ]
  },
  {
   "cell_type": "code",
   "execution_count": 2,
   "metadata": {},
   "outputs": [],
   "source": [
    "# load data from file\n",
    "path = \"D:/Nicolai/MA_Data/time_experiment_1/\"\n",
    "\n",
    "cipde0a_ex1 = []\n",
    "for i in range(20):\n",
    "    cipde0a_ex1.append(pp.loadExpObject(path + \"cipde0a_rep_\" + str(i) + \".json\"))\n",
    "\n",
    "cipde0b_ex1 = []\n",
    "for i in range(20):\n",
    "    cipde0b_ex1.append(pp.loadExpObject(path + \"cipde0b_rep_\" + str(i) + \".json\"))\n",
    "\n",
    "cipde1_ex1 = []\n",
    "for i in range(20):\n",
    "    cipde1_ex1.append(pp.loadExpObject(path + \"cipde1_rep_\" + str(i) + \".json\"))\n",
    "    \n",
    "cipde2_ex1 = []\n",
    "for i in range(20):\n",
    "    cipde2_ex1.append(pp.loadExpObject(path + \"cipde2_rep_\" + str(i) + \".json\"))\n",
    "    \n",
    "cipde3_ex1 = []\n",
    "for i in range(20):\n",
    "    cipde3_ex1.append(pp.loadExpObject(path + \"cipde3_rep_\" + str(i) + \".json\"))\n",
    "\n",
    "cipde4_ex1 = []\n",
    "for i in range(20):\n",
    "    cipde4_ex1.append(pp.loadExpObject(path + \"cipde4_rep_\" + str(i) + \".json\"))\n",
    "    \n",
    "cipde5_ex1 = []\n",
    "for i in range(20):\n",
    "    cipde5_ex1.append(pp.loadExpObject(path + \"cipde5_rep_\" + str(i) + \".json\"))\n",
    "    \n",
    "cipde6_ex1 = []\n",
    "for i in range(20):\n",
    "    cipde6_ex1.append(pp.loadExpObject(path + \"cipde6_rep_\" + str(i) + \".json\"))\n",
    "    \n",
    "cipde7_ex1 = []\n",
    "for i in range(20):\n",
    "    cipde7_ex1.append(pp.loadExpObject(path + \"cipde7_rep_\" + str(i) + \".json\"))\n",
    "    \n",
    "cipde8_ex1 = []\n",
    "for i in range(20):\n",
    "    cipde8_ex1.append(pp.loadExpObject(path + \"cipde8_rep_\" + str(i) + \".json\"))\n",
    "    \n",
    "cipde9_ex1 = []\n",
    "for i in range(20):\n",
    "    cipde9_ex1.append(pp.loadExpObject(path + \"cipde9_rep_\" + str(i) + \".json\"))"
   ]
  },
  {
   "cell_type": "code",
   "execution_count": 3,
   "metadata": {},
   "outputs": [],
   "source": [
    "time_pde_0A_ex1 = [t[\"exec_time\"] for t in cipde0a_ex1]\n",
    "time_pde_0B_ex1 = [t[\"exec_time\"] for t in cipde0b_ex1]\n",
    "time_pde_1_ex1  = [t[\"exec_time\"] for t in cipde1_ex1]\n",
    "time_pde_2_ex1  = [t[\"exec_time\"] for t in cipde2_ex1]\n",
    "time_pde_3_ex1  = [t[\"exec_time\"] for t in cipde3_ex1]\n",
    "time_pde_4_ex1  = [t[\"exec_time\"] for t in cipde4_ex1]\n",
    "time_pde_5_ex1  = [t[\"exec_time\"] for t in cipde5_ex1]\n",
    "time_pde_6_ex1  = [t[\"exec_time\"] for t in cipde6_ex1]\n",
    "time_pde_7_ex1  = [t[\"exec_time\"] for t in cipde7_ex1]\n",
    "time_pde_8_ex1  = [t[\"exec_time\"] for t in cipde8_ex1]\n",
    "time_pde_9_ex1  = [t[\"exec_time\"] for t in cipde9_ex1]\n",
    "\n",
    "t_data_ex1 = [time_pde_0A_ex1, time_pde_0B_ex1, time_pde_1_ex1, \\\n",
    "          time_pde_2_ex1, time_pde_3_ex1, time_pde_4_ex1, time_pde_5_ex1, \\\n",
    "          time_pde_6_ex1, time_pde_7_ex1, time_pde_8_ex1, time_pde_9_ex1]"
   ]
  },
  {
   "cell_type": "code",
   "execution_count": 4,
   "metadata": {
    "scrolled": false
   },
   "outputs": [
    {
     "data": {
      "image/png": "[encoded data removed]",
      "text/plain": [
       "<Figure size 504x504 with 1 Axes>"
      ]
     },
     "metadata": {
      "needs_background": "light"
     },
     "output_type": "display_data"
    }
   ],
   "source": [
    "fig, ax = plt.subplots(figsize=(7,7))\n",
    "labels = ['pde0A', 'pde0B', 'pde1', 'pde2', 'pde3',\\\n",
    "          'pde4', 'pde5', 'pde6', 'pde7', 'pde8', 'pde9']\n",
    "ax.boxplot(t_data_ex1, labels=labels)\n",
    "ax.set_title('Box Plot CI Solving Time')\n",
    "ax.set_ylabel('time [s]')\n",
    "plt.grid()\n",
    "plt.show()\n",
    "fig.savefig(\"time_boxplot_ci_exp1.pdf\", bbox_inches='tight')"
   ]
  },
  {
   "cell_type": "code",
   "execution_count": 5,
   "metadata": {},
   "outputs": [],
   "source": [
    "mem_pde_0A_ex1 = [t[\"mem_consumption\"]/10**6 for t in cipde0a_ex1]\n",
    "mem_pde_0B_ex1 = [t[\"mem_consumption\"]/10**6 for t in cipde0b_ex1]\n",
    "mem_pde_1_ex1  = [t[\"mem_consumption\"]/10**6 for t in cipde1_ex1]\n",
    "mem_pde_2_ex1  = [t[\"mem_consumption\"]/10**6 for t in cipde2_ex1]\n",
    "mem_pde_3_ex1  = [t[\"mem_consumption\"]/10**6 for t in cipde3_ex1]\n",
    "mem_pde_4_ex1  = [t[\"mem_consumption\"]/10**6 for t in cipde4_ex1]\n",
    "mem_pde_5_ex1  = [t[\"mem_consumption\"]/10**6 for t in cipde5_ex1]\n",
    "mem_pde_6_ex1  = [t[\"mem_consumption\"]/10**6 for t in cipde6_ex1]\n",
    "mem_pde_7_ex1  = [t[\"mem_consumption\"]/10**6 for t in cipde7_ex1]\n",
    "mem_pde_8_ex1  = [t[\"mem_consumption\"]/10**6 for t in cipde8_ex1]\n",
    "mem_pde_9_ex1  = [t[\"mem_consumption\"]/10**6 for t in cipde9_ex1]\n",
    "\n",
    "m_data_ex1 = [mem_pde_0A_ex1, mem_pde_0B_ex1, mem_pde_1_ex1, \\\n",
    "          mem_pde_2_ex1, mem_pde_3_ex1, mem_pde_4_ex1, mem_pde_5_ex1, \\\n",
    "          mem_pde_6_ex1, mem_pde_7_ex1, mem_pde_8_ex1, mem_pde_9_ex1]"
   ]
  },
  {
   "cell_type": "code",
   "execution_count": 6,
   "metadata": {
    "scrolled": false
   },
   "outputs": [
    {
     "data": {
      "image/png": "[encoded data removed]",
      "text/plain": [
       "<Figure size 504x504 with 1 Axes>"
      ]
     },
     "metadata": {
      "needs_background": "light"
     },
     "output_type": "display_data"
    }
   ],
   "source": [
    "fig, ax = plt.subplots(figsize=(7,7))\n",
    "labels = ['pde0A', 'pde0B', 'pde1', 'pde2', 'pde3',\\\n",
    "          'pde4', 'pde5', 'pde6', 'pde7', 'pde8', 'pde9']\n",
    "ax.boxplot(m_data_ex1, labels=labels)\n",
    "ax.set_title('Box Plot CI Memory Usage')\n",
    "ax.set_ylabel('memory [Mbyte]')\n",
    "plt.grid()\n",
    "plt.show()\n",
    "fig.savefig(\"mem_boxplot_ci_exp1.pdf\", bbox_inches='tight')"
   ]
  },
  {
   "cell_type": "code",
   "execution_count": 7,
   "metadata": {},
   "outputs": [
    {
     "name": "stdout",
     "output_type": "stream",
     "text": [
      "2.0939054571909783\n",
      "0.6668883221373517\n",
      "0.20175939330226597\n",
      "0.0839079180668704\n",
      "0.19607384995084717\n",
      "0.09807434487183854\n",
      "0.7042485373078844\n",
      "1.8855868444472779\n",
      "0.04887322042731832\n",
      "0.2209881462451894\n",
      "0.05576839540624029\n"
     ]
    }
   ],
   "source": [
    "# minimum distance reached\n",
    "dist_pde_0A_ex1 = np.mean([t[\"normL2\"] for t in cipde0a_ex1])\n",
    "dist_pde_0B_ex1 = np.mean([t[\"normL2\"] for t in cipde0b_ex1])\n",
    "dist_pde_1_ex1  = np.mean([t[\"normL2\"] for t in cipde1_ex1])\n",
    "dist_pde_2_ex1  = np.mean([t[\"normL2\"] for t in cipde2_ex1])\n",
    "dist_pde_3_ex1  = np.mean([t[\"normL2\"] for t in cipde3_ex1])\n",
    "dist_pde_4_ex1  = np.mean([t[\"normL2\"] for t in cipde4_ex1])\n",
    "dist_pde_5_ex1  = np.mean([t[\"normL2\"] for t in cipde5_ex1])\n",
    "dist_pde_6_ex1  = np.mean([t[\"normL2\"] for t in cipde6_ex1])\n",
    "dist_pde_7_ex1  = np.mean([t[\"normL2\"] for t in cipde7_ex1])\n",
    "dist_pde_8_ex1  = np.mean([t[\"normL2\"] for t in cipde8_ex1])\n",
    "dist_pde_9_ex1  = np.mean([t[\"normL2\"] for t in cipde9_ex1])\n",
    "print(dist_pde_0A_ex1)\n",
    "print(dist_pde_0B_ex1)\n",
    "print(dist_pde_1_ex1)\n",
    "print(dist_pde_2_ex1)\n",
    "print(dist_pde_3_ex1)\n",
    "print(dist_pde_4_ex1)\n",
    "print(dist_pde_5_ex1)\n",
    "print(dist_pde_6_ex1)\n",
    "print(dist_pde_7_ex1)\n",
    "print(dist_pde_8_ex1)\n",
    "print(dist_pde_9_ex1)"
   ]
  },
  {
   "cell_type": "code",
   "execution_count": 8,
   "metadata": {},
   "outputs": [],
   "source": [
    "# load experiment 0 to calculate speedup\n",
    "# load data from file\n",
    "path = \"D:/Nicolai/MA_Data/time_experiment_0/\"\n",
    "\n",
    "cipde0a_ex0 = []\n",
    "for i in range(20):\n",
    "    cipde0a_ex0.append(pp.loadExpObject(path + \"cipde0a_rep_\" + str(i) + \".json\"))\n",
    "\n",
    "cipde0b_ex0 = []\n",
    "for i in range(20):\n",
    "    cipde0b_ex0.append(pp.loadExpObject(path + \"cipde0b_rep_\" + str(i) + \".json\"))\n",
    "\n",
    "cipde1_ex0 = []\n",
    "for i in range(20):\n",
    "    cipde1_ex0.append(pp.loadExpObject(path + \"cipde1_rep_\" + str(i) + \".json\"))\n",
    "    \n",
    "cipde2_ex0 = []\n",
    "for i in range(20):\n",
    "    cipde2_ex0.append(pp.loadExpObject(path + \"cipde2_rep_\" + str(i) + \".json\"))\n",
    "    \n",
    "cipde3_ex0 = []\n",
    "for i in range(20):\n",
    "    cipde3_ex0.append(pp.loadExpObject(path + \"cipde3_rep_\" + str(i) + \".json\"))\n",
    "\n",
    "cipde4_ex0 = []\n",
    "for i in range(20):\n",
    "    cipde4_ex0.append(pp.loadExpObject(path + \"cipde4_rep_\" + str(i) + \".json\"))\n",
    "    \n",
    "cipde5_ex0 = []\n",
    "for i in range(20):\n",
    "    cipde5_ex0.append(pp.loadExpObject(path + \"cipde5_rep_\" + str(i) + \".json\"))\n",
    "    \n",
    "cipde6_ex0 = []\n",
    "for i in range(20):\n",
    "    cipde6_ex0.append(pp.loadExpObject(path + \"cipde6_rep_\" + str(i) + \".json\"))\n",
    "    \n",
    "cipde7_ex0 = []\n",
    "for i in range(20):\n",
    "    cipde7_ex0.append(pp.loadExpObject(path + \"cipde7_rep_\" + str(i) + \".json\"))\n",
    "    \n",
    "cipde8_ex0 = []\n",
    "for i in range(20):\n",
    "    cipde8_ex0.append(pp.loadExpObject(path + \"cipde8_rep_\" + str(i) + \".json\"))\n",
    "    \n",
    "cipde9_ex0 = []\n",
    "for i in range(20):\n",
    "    cipde9_ex0.append(pp.loadExpObject(path + \"cipde9_rep_\" + str(i) + \".json\"))"
   ]
  },
  {
   "cell_type": "code",
   "execution_count": 9,
   "metadata": {},
   "outputs": [],
   "source": [
    "time_pde_0A_ex0 = [t[\"exec_time\"] for t in cipde0a_ex0]\n",
    "time_pde_0B_ex0 = [t[\"exec_time\"] for t in cipde0b_ex0]\n",
    "time_pde_1_ex0  = [t[\"exec_time\"] for t in cipde1_ex0]\n",
    "time_pde_2_ex0  = [t[\"exec_time\"] for t in cipde2_ex0]\n",
    "time_pde_3_ex0  = [t[\"exec_time\"] for t in cipde3_ex0]\n",
    "time_pde_4_ex0  = [t[\"exec_time\"] for t in cipde4_ex0]\n",
    "time_pde_5_ex0  = [t[\"exec_time\"] for t in cipde5_ex0]\n",
    "time_pde_6_ex0  = [t[\"exec_time\"] for t in cipde6_ex0]\n",
    "time_pde_7_ex0  = [t[\"exec_time\"] for t in cipde7_ex0]\n",
    "time_pde_8_ex0  = [t[\"exec_time\"] for t in cipde8_ex0]\n",
    "time_pde_9_ex0  = [t[\"exec_time\"] for t in cipde9_ex0]\n",
    "\n",
    "t_data_ex0_mean = [np.mean(time_pde_0A_ex0), np.mean(time_pde_0B_ex0), np.mean(time_pde_1_ex0), \\\n",
    "             np.mean(time_pde_2_ex0), np.mean(time_pde_3_ex0), np.mean(time_pde_4_ex0), np.mean(time_pde_5_ex0), \\\n",
    "             np.mean(time_pde_6_ex0), np.mean(time_pde_7_ex0), np.mean(time_pde_8_ex0), np.mean(time_pde_9_ex0)]\n",
    "\n",
    "\n",
    "t_data_ex1_mean = [np.mean(time_pde_0A_ex1), np.mean(time_pde_0B_ex1), np.mean(time_pde_1_ex1), \\\n",
    "          np.mean(time_pde_2_ex1), np.mean(time_pde_3_ex1), np.mean(time_pde_4_ex1), np.mean(time_pde_5_ex1), \\\n",
    "          np.mean(time_pde_6_ex1), np.mean(time_pde_7_ex1), np.mean(time_pde_8_ex1), np.mean(time_pde_9_ex1)]"
   ]
  },
  {
   "cell_type": "code",
   "execution_count": 10,
   "metadata": {},
   "outputs": [
    {
     "name": "stdout",
     "output_type": "stream",
     "text": [
      "(11,)\n",
      "(11,)\n"
     ]
    }
   ],
   "source": [
    "speedup_data_mean = []\n",
    "for i in range(11):\n",
    "    speedup_data_mean.append(t_data_ex0_mean[i]/t_data_ex1_mean[i])    \n",
    "    \n",
    "speedup_data_std = []\n",
    "speedup_data_std.append(np.sqrt(np.mean([x**2 for x in time_pde_0A_ex0]) * np.mean([(1/y)**2 for y in time_pde_0A_ex1])-\\\n",
    "(np.mean(time_pde_0A_ex0)*np.mean([1/y for y in time_pde_0A_ex1]))**2))\n",
    "speedup_data_std.append(np.sqrt(np.mean([x**2 for x in time_pde_0B_ex0]) * np.mean([(1/y)**2 for y in time_pde_0B_ex1])-\\\n",
    "(np.mean(time_pde_0B_ex0)*np.mean([1/y for y in time_pde_0B_ex1]))**2))\n",
    "speedup_data_std.append(np.sqrt(np.mean([x**2 for x in time_pde_1_ex0]) * np.mean([(1/y)**2 for y in time_pde_1_ex1])-\\\n",
    "(np.mean(time_pde_1_ex0)*np.mean([1/y for y in time_pde_1_ex1]))**2))\n",
    "speedup_data_std.append(np.sqrt(np.mean([x**2 for x in time_pde_2_ex0]) * np.mean([(1/y)**2 for y in time_pde_2_ex1])-\\\n",
    "(np.mean(time_pde_2_ex0)*np.mean([1/y for y in time_pde_2_ex1]))**2))\n",
    "speedup_data_std.append(np.sqrt(np.mean([x**2 for x in time_pde_3_ex0]) * np.mean([(1/y)**2 for y in time_pde_3_ex1])-\\\n",
    "(np.mean(time_pde_3_ex0)*np.mean([1/y for y in time_pde_3_ex1]))**2))\n",
    "speedup_data_std.append(np.sqrt(np.mean([x**2 for x in time_pde_4_ex0]) * np.mean([(1/y)**2 for y in time_pde_4_ex1])-\\\n",
    "(np.mean(time_pde_4_ex0)*np.mean([1/y for y in time_pde_4_ex1]))**2))\n",
    "speedup_data_std.append(np.sqrt(np.mean([x**2 for x in time_pde_5_ex0]) * np.mean([(1/y)**2 for y in time_pde_5_ex1])-\\\n",
    "(np.mean(time_pde_5_ex0)*np.mean([1/y for y in time_pde_5_ex1]))**2))\n",
    "speedup_data_std.append(np.sqrt(np.mean([x**2 for x in time_pde_6_ex0]) * np.mean([(1/y)**2 for y in time_pde_6_ex1])-\\\n",
    "(np.mean(time_pde_6_ex0)*np.mean([1/y for y in time_pde_6_ex1]))**2))\n",
    "speedup_data_std.append(np.sqrt(np.mean([x**2 for x in time_pde_7_ex0]) * np.mean([(1/y)**2 for y in time_pde_7_ex1])-\\\n",
    "(np.mean(time_pde_7_ex0)*np.mean([1/y for y in time_pde_7_ex1]))**2))\n",
    "speedup_data_std.append(np.sqrt(np.mean([x**2 for x in time_pde_8_ex0]) * np.mean([(1/y)**2 for y in time_pde_8_ex1])-\\\n",
    "(np.mean(time_pde_8_ex0)*np.mean([1/y for y in time_pde_8_ex1]))**2))\n",
    "speedup_data_std.append(np.sqrt(np.mean([x**2 for x in time_pde_9_ex0]) * np.mean([(1/y)**2 for y in time_pde_9_ex1])-\\\n",
    "(np.mean(time_pde_9_ex0)*np.mean([1/y for y in time_pde_9_ex1]))**2))\n",
    "\n",
    "speedup_data_mean = np.array(speedup_data_mean)\n",
    "speedup_data_std = np.array(speedup_data_std)\n",
    "print(speedup_data_mean.shape)\n",
    "print(speedup_data_std.shape)"
   ]
  },
  {
   "cell_type": "code",
   "execution_count": 11,
   "metadata": {},
   "outputs": [
    {
     "data": {
      "image/png": "[encoded data removed]",
      "text/plain": [
       "<Figure size 432x288 with 1 Axes>"
      ]
     },
     "metadata": {
      "needs_background": "light"
     },
     "output_type": "display_data"
    }
   ],
   "source": [
    "my_xticks = ['PDE0A','PDE0B','PDE1','PDE2','PDE3','PDE4','PDE5','PDE6','PDE7','PDE8','PDE9']\n",
    "x = np.array([0,1,2,3,4,5,6,7,8,9,10])\n",
    "plt.xticks(x, my_xticks, rotation=(45))\n",
    "plt.ylabel(\"speedup\")\n",
    "plt.plot(speedup_data_mean, marker=\"o\")\n",
    "plt.fill_between(x, speedup_data_mean-speedup_data_std, speedup_data_mean+speedup_data_std,\n",
    "    alpha=0.7, edgecolor='C1', facecolor='C1')\n",
    "plt.grid()\n",
    "plt.savefig(\"speedup_plot.pdf\")\n",
    "plt.show()"
   ]
  },
  {
   "cell_type": "code",
   "execution_count": 2,
   "metadata": {},
   "outputs": [],
   "source": [
    "# load data from file\n",
    "path = \"D:/Nicolai/MA_Data/experiment_1/\"\n",
    "\n",
    "cipde0a_full = []\n",
    "for i in range(20):\n",
    "    cipde0a_full.append(pp.loadExpObjectFast(path + \"cipde0a_mpj_rep_\" + str(i) + \".json\"))\n",
    "\n",
    "cipde0b_full = []\n",
    "for i in range(20):\n",
    "    cipde0b_full.append(pp.loadExpObjectFast(path + \"cipde0b_mpj_rep_\" + str(i) + \".json\"))\n",
    "\n",
    "cipde1_full = []\n",
    "for i in range(20):\n",
    "    cipde1_full.append(pp.loadExpObjectFast(path + \"cipde1_mpj_rep_\" + str(i) + \".json\"))\n",
    "    \n",
    "cipde2_full = []\n",
    "for i in range(20):\n",
    "    cipde2_full.append(pp.loadExpObjectFast(path + \"cipde2_mpj_rep_\" + str(i) + \".json\"))\n",
    "    \n",
    "cipde3_full = []\n",
    "for i in range(20):\n",
    "    cipde3_full.append(pp.loadExpObjectFast(path + \"cipde3_mpj_rep_\" + str(i) + \".json\"))\n",
    "    \n",
    "cipde4_full = []\n",
    "for i in range(20):\n",
    "    cipde4_full.append(pp.loadExpObjectFast(path + \"cipde4_mpj_rep_\" + str(i) + \".json\"))\n",
    "    \n",
    "cipde5_full = []\n",
    "for i in range(20):\n",
    "    cipde5_full.append(pp.loadExpObjectFast(path + \"cipde5_mpj_rep_\" + str(i) + \".json\"))\n",
    "    \n",
    "cipde6_full = []\n",
    "for i in range(20):\n",
    "    cipde6_full.append(pp.loadExpObjectFast(path + \"cipde6_mpj_rep_\" + str(i) + \".json\"))\n",
    "    \n",
    "cipde7_full = []\n",
    "for i in range(20):\n",
    "    cipde7_full.append(pp.loadExpObjectFast(path + \"cipde7_mpj_rep_\" + str(i) + \".json\"))\n",
    "    \n",
    "cipde8_full = []\n",
    "for i in range(20):\n",
    "    cipde8_full.append(pp.loadExpObjectFast(path + \"cipde8_mpj_rep_\" + str(i) + \".json\"))\n",
    "    \n",
    "cipde9_full = []\n",
    "for i in range(20):\n",
    "    cipde9_full.append(pp.loadExpObjectFast(path + \"cipde9_mpj_rep_\" + str(i) + \".json\"))\n",
    " "
   ]
  },
  {
   "cell_type": "code",
   "execution_count": 4,
   "metadata": {},
   "outputs": [],
   "source": [
    "sys.path.append(\"../../kernels\")\n",
    "import KernelGauss as ga\n",
    "gkernel = ga.KernelGauss()"
   ]
  },
  {
   "cell_type": "code",
   "execution_count": null,
   "metadata": {},
   "outputs": [],
   "source": []
  }
 ],
 "metadata": {
  "kernelspec": {
   "display_name": "Python 3",
   "language": "python",
   "name": "python3"
  },
  "language_info": {
   "codemirror_mode": {
    "name": "ipython",
    "version": 3
   },
   "file_extension": ".py",
   "mimetype": "text/x-python",
   "name": "python",
   "nbconvert_exporter": "python",
   "pygments_lexer": "ipython3",
   "version": "3.7.6"
  }
 },
 "nbformat": 4,
 "nbformat_minor": 4
}
